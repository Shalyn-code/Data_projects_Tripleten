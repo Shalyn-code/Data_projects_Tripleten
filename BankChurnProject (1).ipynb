{
 "cells": [
  {
   "cell_type": "markdown",
   "metadata": {},
   "source": [
    "## Bank or Break?"
   ]
  },
  {
   "cell_type": "markdown",
   "metadata": {},
   "source": [
    "**Using the information and behavior of Beta Bank's current and past customers, our goal is to potentially predict if a client will stay or terminate their contract. Being that it is cheaper to keep existing customers, these predictions should help the bank save money.**"
   ]
  },
  {
   "cell_type": "code",
   "execution_count": 1,
   "metadata": {},
   "outputs": [],
   "source": [
    "#import libraries\n",
    "import pandas as pd\n",
    "import matplotlib.pyplot as plt\n",
    "from sklearn.model_selection import train_test_split, GridSearchCV\n",
    "from sklearn.preprocessing import StandardScaler\n",
    "from sklearn.metrics import f1_score, roc_auc_score\n",
    "from sklearn.linear_model import LogisticRegression\n",
    "from sklearn.ensemble import RandomForestClassifier\n",
    "from sklearn.tree import DecisionTreeClassifier\n",
    "from sklearn.metrics import accuracy_score\n",
    "from sklearn.utils import resample, shuffle"
   ]
  },
  {
   "cell_type": "code",
   "execution_count": 2,
   "metadata": {},
   "outputs": [],
   "source": [
    "#import dataset\n",
    "data = pd.read_csv('/datasets/Churn.csv')"
   ]
  },
  {
   "cell_type": "markdown",
   "metadata": {},
   "source": [
    "**In the steps below, the data will be analyzed and cleaned.**"
   ]
  },
  {
   "cell_type": "code",
   "execution_count": 3,
   "metadata": {},
   "outputs": [
    {
     "name": "stdout",
     "output_type": "stream",
     "text": [
      "<class 'pandas.core.frame.DataFrame'>\n",
      "RangeIndex: 10000 entries, 0 to 9999\n",
      "Data columns (total 14 columns):\n",
      " #   Column           Non-Null Count  Dtype  \n",
      "---  ------           --------------  -----  \n",
      " 0   RowNumber        10000 non-null  int64  \n",
      " 1   CustomerId       10000 non-null  int64  \n",
      " 2   Surname          10000 non-null  object \n",
      " 3   CreditScore      10000 non-null  int64  \n",
      " 4   Geography        10000 non-null  object \n",
      " 5   Gender           10000 non-null  object \n",
      " 6   Age              10000 non-null  int64  \n",
      " 7   Tenure           9091 non-null   float64\n",
      " 8   Balance          10000 non-null  float64\n",
      " 9   NumOfProducts    10000 non-null  int64  \n",
      " 10  HasCrCard        10000 non-null  int64  \n",
      " 11  IsActiveMember   10000 non-null  int64  \n",
      " 12  EstimatedSalary  10000 non-null  float64\n",
      " 13  Exited           10000 non-null  int64  \n",
      "dtypes: float64(3), int64(8), object(3)\n",
      "memory usage: 1.1+ MB\n"
     ]
    }
   ],
   "source": [
    "#view data info to check data types and null values\n",
    "data.info()"
   ]
  },
  {
   "cell_type": "code",
   "execution_count": 4,
   "metadata": {},
   "outputs": [
    {
     "data": {
      "text/html": [
       "<div>\n",
       "<style scoped>\n",
       "    .dataframe tbody tr th:only-of-type {\n",
       "        vertical-align: middle;\n",
       "    }\n",
       "\n",
       "    .dataframe tbody tr th {\n",
       "        vertical-align: top;\n",
       "    }\n",
       "\n",
       "    .dataframe thead th {\n",
       "        text-align: right;\n",
       "    }\n",
       "</style>\n",
       "<table border=\"1\" class=\"dataframe\">\n",
       "  <thead>\n",
       "    <tr style=\"text-align: right;\">\n",
       "      <th></th>\n",
       "      <th>RowNumber</th>\n",
       "      <th>CustomerId</th>\n",
       "      <th>Surname</th>\n",
       "      <th>CreditScore</th>\n",
       "      <th>Geography</th>\n",
       "      <th>Gender</th>\n",
       "      <th>Age</th>\n",
       "      <th>Tenure</th>\n",
       "      <th>Balance</th>\n",
       "      <th>NumOfProducts</th>\n",
       "      <th>HasCrCard</th>\n",
       "      <th>IsActiveMember</th>\n",
       "      <th>EstimatedSalary</th>\n",
       "      <th>Exited</th>\n",
       "    </tr>\n",
       "  </thead>\n",
       "  <tbody>\n",
       "    <tr>\n",
       "      <th>4151</th>\n",
       "      <td>4152</td>\n",
       "      <td>15569098</td>\n",
       "      <td>Winifred</td>\n",
       "      <td>627</td>\n",
       "      <td>France</td>\n",
       "      <td>Male</td>\n",
       "      <td>44</td>\n",
       "      <td>NaN</td>\n",
       "      <td>153548.12</td>\n",
       "      <td>1</td>\n",
       "      <td>0</td>\n",
       "      <td>0</td>\n",
       "      <td>35300.08</td>\n",
       "      <td>1</td>\n",
       "    </tr>\n",
       "    <tr>\n",
       "      <th>357</th>\n",
       "      <td>358</td>\n",
       "      <td>15661629</td>\n",
       "      <td>Ricci</td>\n",
       "      <td>522</td>\n",
       "      <td>Spain</td>\n",
       "      <td>Male</td>\n",
       "      <td>34</td>\n",
       "      <td>NaN</td>\n",
       "      <td>126436.29</td>\n",
       "      <td>1</td>\n",
       "      <td>1</td>\n",
       "      <td>0</td>\n",
       "      <td>174248.52</td>\n",
       "      <td>1</td>\n",
       "    </tr>\n",
       "    <tr>\n",
       "      <th>7140</th>\n",
       "      <td>7141</td>\n",
       "      <td>15716082</td>\n",
       "      <td>Chukwubuikem</td>\n",
       "      <td>703</td>\n",
       "      <td>Spain</td>\n",
       "      <td>Male</td>\n",
       "      <td>39</td>\n",
       "      <td>6.0</td>\n",
       "      <td>152685.40</td>\n",
       "      <td>1</td>\n",
       "      <td>0</td>\n",
       "      <td>0</td>\n",
       "      <td>183656.12</td>\n",
       "      <td>0</td>\n",
       "    </tr>\n",
       "    <tr>\n",
       "      <th>8455</th>\n",
       "      <td>8456</td>\n",
       "      <td>15692207</td>\n",
       "      <td>Ingle</td>\n",
       "      <td>609</td>\n",
       "      <td>France</td>\n",
       "      <td>Female</td>\n",
       "      <td>53</td>\n",
       "      <td>NaN</td>\n",
       "      <td>0.00</td>\n",
       "      <td>2</td>\n",
       "      <td>1</td>\n",
       "      <td>1</td>\n",
       "      <td>124218.27</td>\n",
       "      <td>0</td>\n",
       "    </tr>\n",
       "    <tr>\n",
       "      <th>8019</th>\n",
       "      <td>8020</td>\n",
       "      <td>15771154</td>\n",
       "      <td>North</td>\n",
       "      <td>683</td>\n",
       "      <td>France</td>\n",
       "      <td>Female</td>\n",
       "      <td>73</td>\n",
       "      <td>8.0</td>\n",
       "      <td>137732.23</td>\n",
       "      <td>2</td>\n",
       "      <td>1</td>\n",
       "      <td>1</td>\n",
       "      <td>133210.44</td>\n",
       "      <td>0</td>\n",
       "    </tr>\n",
       "    <tr>\n",
       "      <th>8083</th>\n",
       "      <td>8084</td>\n",
       "      <td>15684011</td>\n",
       "      <td>Miller</td>\n",
       "      <td>576</td>\n",
       "      <td>Germany</td>\n",
       "      <td>Male</td>\n",
       "      <td>29</td>\n",
       "      <td>NaN</td>\n",
       "      <td>130575.26</td>\n",
       "      <td>1</td>\n",
       "      <td>0</td>\n",
       "      <td>1</td>\n",
       "      <td>173629.78</td>\n",
       "      <td>0</td>\n",
       "    </tr>\n",
       "    <tr>\n",
       "      <th>4948</th>\n",
       "      <td>4949</td>\n",
       "      <td>15716357</td>\n",
       "      <td>Corran</td>\n",
       "      <td>772</td>\n",
       "      <td>Spain</td>\n",
       "      <td>Female</td>\n",
       "      <td>39</td>\n",
       "      <td>4.0</td>\n",
       "      <td>122486.11</td>\n",
       "      <td>2</td>\n",
       "      <td>1</td>\n",
       "      <td>1</td>\n",
       "      <td>140709.25</td>\n",
       "      <td>0</td>\n",
       "    </tr>\n",
       "    <tr>\n",
       "      <th>9713</th>\n",
       "      <td>9714</td>\n",
       "      <td>15623566</td>\n",
       "      <td>Barnhill</td>\n",
       "      <td>714</td>\n",
       "      <td>France</td>\n",
       "      <td>Male</td>\n",
       "      <td>40</td>\n",
       "      <td>9.0</td>\n",
       "      <td>46520.69</td>\n",
       "      <td>1</td>\n",
       "      <td>1</td>\n",
       "      <td>1</td>\n",
       "      <td>96687.25</td>\n",
       "      <td>0</td>\n",
       "    </tr>\n",
       "    <tr>\n",
       "      <th>2509</th>\n",
       "      <td>2510</td>\n",
       "      <td>15689341</td>\n",
       "      <td>Gibbs</td>\n",
       "      <td>655</td>\n",
       "      <td>France</td>\n",
       "      <td>Female</td>\n",
       "      <td>50</td>\n",
       "      <td>10.0</td>\n",
       "      <td>0.00</td>\n",
       "      <td>4</td>\n",
       "      <td>1</td>\n",
       "      <td>0</td>\n",
       "      <td>179267.94</td>\n",
       "      <td>1</td>\n",
       "    </tr>\n",
       "    <tr>\n",
       "      <th>7606</th>\n",
       "      <td>7607</td>\n",
       "      <td>15571571</td>\n",
       "      <td>Ting</td>\n",
       "      <td>680</td>\n",
       "      <td>Germany</td>\n",
       "      <td>Female</td>\n",
       "      <td>31</td>\n",
       "      <td>3.0</td>\n",
       "      <td>127331.46</td>\n",
       "      <td>3</td>\n",
       "      <td>1</td>\n",
       "      <td>1</td>\n",
       "      <td>176433.60</td>\n",
       "      <td>0</td>\n",
       "    </tr>\n",
       "  </tbody>\n",
       "</table>\n",
       "</div>"
      ],
      "text/plain": [
       "      RowNumber  CustomerId       Surname  CreditScore Geography  Gender  Age  \\\n",
       "4151       4152    15569098      Winifred          627    France    Male   44   \n",
       "357         358    15661629         Ricci          522     Spain    Male   34   \n",
       "7140       7141    15716082  Chukwubuikem          703     Spain    Male   39   \n",
       "8455       8456    15692207         Ingle          609    France  Female   53   \n",
       "8019       8020    15771154         North          683    France  Female   73   \n",
       "8083       8084    15684011        Miller          576   Germany    Male   29   \n",
       "4948       4949    15716357        Corran          772     Spain  Female   39   \n",
       "9713       9714    15623566      Barnhill          714    France    Male   40   \n",
       "2509       2510    15689341         Gibbs          655    France  Female   50   \n",
       "7606       7607    15571571          Ting          680   Germany  Female   31   \n",
       "\n",
       "      Tenure    Balance  NumOfProducts  HasCrCard  IsActiveMember  \\\n",
       "4151     NaN  153548.12              1          0               0   \n",
       "357      NaN  126436.29              1          1               0   \n",
       "7140     6.0  152685.40              1          0               0   \n",
       "8455     NaN       0.00              2          1               1   \n",
       "8019     8.0  137732.23              2          1               1   \n",
       "8083     NaN  130575.26              1          0               1   \n",
       "4948     4.0  122486.11              2          1               1   \n",
       "9713     9.0   46520.69              1          1               1   \n",
       "2509    10.0       0.00              4          1               0   \n",
       "7606     3.0  127331.46              3          1               1   \n",
       "\n",
       "      EstimatedSalary  Exited  \n",
       "4151         35300.08       1  \n",
       "357         174248.52       1  \n",
       "7140        183656.12       0  \n",
       "8455        124218.27       0  \n",
       "8019        133210.44       0  \n",
       "8083        173629.78       0  \n",
       "4948        140709.25       0  \n",
       "9713         96687.25       0  \n",
       "2509        179267.94       1  \n",
       "7606        176433.60       0  "
      ]
     },
     "execution_count": 4,
     "metadata": {},
     "output_type": "execute_result"
    }
   ],
   "source": [
    "#print 10 random rows to view details of each column\n",
    "data.sample(n=10)"
   ]
  },
  {
   "cell_type": "code",
   "execution_count": 5,
   "metadata": {},
   "outputs": [
    {
     "data": {
      "text/html": [
       "<div>\n",
       "<style scoped>\n",
       "    .dataframe tbody tr th:only-of-type {\n",
       "        vertical-align: middle;\n",
       "    }\n",
       "\n",
       "    .dataframe tbody tr th {\n",
       "        vertical-align: top;\n",
       "    }\n",
       "\n",
       "    .dataframe thead th {\n",
       "        text-align: right;\n",
       "    }\n",
       "</style>\n",
       "<table border=\"1\" class=\"dataframe\">\n",
       "  <thead>\n",
       "    <tr style=\"text-align: right;\">\n",
       "      <th></th>\n",
       "      <th>RowNumber</th>\n",
       "      <th>CustomerId</th>\n",
       "      <th>Surname</th>\n",
       "      <th>CreditScore</th>\n",
       "      <th>Geography</th>\n",
       "      <th>Gender</th>\n",
       "      <th>Age</th>\n",
       "      <th>Tenure</th>\n",
       "      <th>Balance</th>\n",
       "      <th>NumOfProducts</th>\n",
       "      <th>HasCrCard</th>\n",
       "      <th>IsActiveMember</th>\n",
       "      <th>EstimatedSalary</th>\n",
       "      <th>Exited</th>\n",
       "    </tr>\n",
       "  </thead>\n",
       "  <tbody>\n",
       "    <tr>\n",
       "      <th>30</th>\n",
       "      <td>31</td>\n",
       "      <td>15589475</td>\n",
       "      <td>Azikiwe</td>\n",
       "      <td>591</td>\n",
       "      <td>Spain</td>\n",
       "      <td>Female</td>\n",
       "      <td>39</td>\n",
       "      <td>NaN</td>\n",
       "      <td>0.00</td>\n",
       "      <td>3</td>\n",
       "      <td>1</td>\n",
       "      <td>0</td>\n",
       "      <td>140469.38</td>\n",
       "      <td>1</td>\n",
       "    </tr>\n",
       "    <tr>\n",
       "      <th>48</th>\n",
       "      <td>49</td>\n",
       "      <td>15766205</td>\n",
       "      <td>Yin</td>\n",
       "      <td>550</td>\n",
       "      <td>Germany</td>\n",
       "      <td>Male</td>\n",
       "      <td>38</td>\n",
       "      <td>NaN</td>\n",
       "      <td>103391.38</td>\n",
       "      <td>1</td>\n",
       "      <td>0</td>\n",
       "      <td>1</td>\n",
       "      <td>90878.13</td>\n",
       "      <td>0</td>\n",
       "    </tr>\n",
       "    <tr>\n",
       "      <th>51</th>\n",
       "      <td>52</td>\n",
       "      <td>15768193</td>\n",
       "      <td>Trevisani</td>\n",
       "      <td>585</td>\n",
       "      <td>Germany</td>\n",
       "      <td>Male</td>\n",
       "      <td>36</td>\n",
       "      <td>NaN</td>\n",
       "      <td>146050.97</td>\n",
       "      <td>2</td>\n",
       "      <td>0</td>\n",
       "      <td>0</td>\n",
       "      <td>86424.57</td>\n",
       "      <td>0</td>\n",
       "    </tr>\n",
       "    <tr>\n",
       "      <th>53</th>\n",
       "      <td>54</td>\n",
       "      <td>15702298</td>\n",
       "      <td>Parkhill</td>\n",
       "      <td>655</td>\n",
       "      <td>Germany</td>\n",
       "      <td>Male</td>\n",
       "      <td>41</td>\n",
       "      <td>NaN</td>\n",
       "      <td>125561.97</td>\n",
       "      <td>1</td>\n",
       "      <td>0</td>\n",
       "      <td>0</td>\n",
       "      <td>164040.94</td>\n",
       "      <td>1</td>\n",
       "    </tr>\n",
       "    <tr>\n",
       "      <th>60</th>\n",
       "      <td>61</td>\n",
       "      <td>15651280</td>\n",
       "      <td>Hunter</td>\n",
       "      <td>742</td>\n",
       "      <td>Germany</td>\n",
       "      <td>Male</td>\n",
       "      <td>35</td>\n",
       "      <td>NaN</td>\n",
       "      <td>136857.00</td>\n",
       "      <td>1</td>\n",
       "      <td>0</td>\n",
       "      <td>0</td>\n",
       "      <td>84509.57</td>\n",
       "      <td>0</td>\n",
       "    </tr>\n",
       "    <tr>\n",
       "      <th>...</th>\n",
       "      <td>...</td>\n",
       "      <td>...</td>\n",
       "      <td>...</td>\n",
       "      <td>...</td>\n",
       "      <td>...</td>\n",
       "      <td>...</td>\n",
       "      <td>...</td>\n",
       "      <td>...</td>\n",
       "      <td>...</td>\n",
       "      <td>...</td>\n",
       "      <td>...</td>\n",
       "      <td>...</td>\n",
       "      <td>...</td>\n",
       "      <td>...</td>\n",
       "    </tr>\n",
       "    <tr>\n",
       "      <th>9944</th>\n",
       "      <td>9945</td>\n",
       "      <td>15703923</td>\n",
       "      <td>Cameron</td>\n",
       "      <td>744</td>\n",
       "      <td>Germany</td>\n",
       "      <td>Male</td>\n",
       "      <td>41</td>\n",
       "      <td>NaN</td>\n",
       "      <td>190409.34</td>\n",
       "      <td>2</td>\n",
       "      <td>1</td>\n",
       "      <td>1</td>\n",
       "      <td>138361.48</td>\n",
       "      <td>0</td>\n",
       "    </tr>\n",
       "    <tr>\n",
       "      <th>9956</th>\n",
       "      <td>9957</td>\n",
       "      <td>15707861</td>\n",
       "      <td>Nucci</td>\n",
       "      <td>520</td>\n",
       "      <td>France</td>\n",
       "      <td>Female</td>\n",
       "      <td>46</td>\n",
       "      <td>NaN</td>\n",
       "      <td>85216.61</td>\n",
       "      <td>1</td>\n",
       "      <td>1</td>\n",
       "      <td>0</td>\n",
       "      <td>117369.52</td>\n",
       "      <td>1</td>\n",
       "    </tr>\n",
       "    <tr>\n",
       "      <th>9964</th>\n",
       "      <td>9965</td>\n",
       "      <td>15642785</td>\n",
       "      <td>Douglas</td>\n",
       "      <td>479</td>\n",
       "      <td>France</td>\n",
       "      <td>Male</td>\n",
       "      <td>34</td>\n",
       "      <td>NaN</td>\n",
       "      <td>117593.48</td>\n",
       "      <td>2</td>\n",
       "      <td>0</td>\n",
       "      <td>0</td>\n",
       "      <td>113308.29</td>\n",
       "      <td>0</td>\n",
       "    </tr>\n",
       "    <tr>\n",
       "      <th>9985</th>\n",
       "      <td>9986</td>\n",
       "      <td>15586914</td>\n",
       "      <td>Nepean</td>\n",
       "      <td>659</td>\n",
       "      <td>France</td>\n",
       "      <td>Male</td>\n",
       "      <td>36</td>\n",
       "      <td>NaN</td>\n",
       "      <td>123841.49</td>\n",
       "      <td>2</td>\n",
       "      <td>1</td>\n",
       "      <td>0</td>\n",
       "      <td>96833.00</td>\n",
       "      <td>0</td>\n",
       "    </tr>\n",
       "    <tr>\n",
       "      <th>9999</th>\n",
       "      <td>10000</td>\n",
       "      <td>15628319</td>\n",
       "      <td>Walker</td>\n",
       "      <td>792</td>\n",
       "      <td>France</td>\n",
       "      <td>Female</td>\n",
       "      <td>28</td>\n",
       "      <td>NaN</td>\n",
       "      <td>130142.79</td>\n",
       "      <td>1</td>\n",
       "      <td>1</td>\n",
       "      <td>0</td>\n",
       "      <td>38190.78</td>\n",
       "      <td>0</td>\n",
       "    </tr>\n",
       "  </tbody>\n",
       "</table>\n",
       "<p>909 rows × 14 columns</p>\n",
       "</div>"
      ],
      "text/plain": [
       "      RowNumber  CustomerId    Surname  CreditScore Geography  Gender  Age  \\\n",
       "30           31    15589475    Azikiwe          591     Spain  Female   39   \n",
       "48           49    15766205        Yin          550   Germany    Male   38   \n",
       "51           52    15768193  Trevisani          585   Germany    Male   36   \n",
       "53           54    15702298   Parkhill          655   Germany    Male   41   \n",
       "60           61    15651280     Hunter          742   Germany    Male   35   \n",
       "...         ...         ...        ...          ...       ...     ...  ...   \n",
       "9944       9945    15703923    Cameron          744   Germany    Male   41   \n",
       "9956       9957    15707861      Nucci          520    France  Female   46   \n",
       "9964       9965    15642785    Douglas          479    France    Male   34   \n",
       "9985       9986    15586914     Nepean          659    France    Male   36   \n",
       "9999      10000    15628319     Walker          792    France  Female   28   \n",
       "\n",
       "      Tenure    Balance  NumOfProducts  HasCrCard  IsActiveMember  \\\n",
       "30       NaN       0.00              3          1               0   \n",
       "48       NaN  103391.38              1          0               1   \n",
       "51       NaN  146050.97              2          0               0   \n",
       "53       NaN  125561.97              1          0               0   \n",
       "60       NaN  136857.00              1          0               0   \n",
       "...      ...        ...            ...        ...             ...   \n",
       "9944     NaN  190409.34              2          1               1   \n",
       "9956     NaN   85216.61              1          1               0   \n",
       "9964     NaN  117593.48              2          0               0   \n",
       "9985     NaN  123841.49              2          1               0   \n",
       "9999     NaN  130142.79              1          1               0   \n",
       "\n",
       "      EstimatedSalary  Exited  \n",
       "30          140469.38       1  \n",
       "48           90878.13       0  \n",
       "51           86424.57       0  \n",
       "53          164040.94       1  \n",
       "60           84509.57       0  \n",
       "...               ...     ...  \n",
       "9944        138361.48       0  \n",
       "9956        117369.52       1  \n",
       "9964        113308.29       0  \n",
       "9985         96833.00       0  \n",
       "9999         38190.78       0  \n",
       "\n",
       "[909 rows x 14 columns]"
      ]
     },
     "execution_count": 5,
     "metadata": {},
     "output_type": "execute_result"
    }
   ],
   "source": [
    "#print rows with null values \n",
    "null_rows = data[data['Tenure'].isnull()]\n",
    "null_rows"
   ]
  },
  {
   "cell_type": "code",
   "execution_count": 6,
   "metadata": {},
   "outputs": [
    {
     "name": "stdout",
     "output_type": "stream",
     "text": [
      "<class 'pandas.core.frame.DataFrame'>\n",
      "RangeIndex: 10000 entries, 0 to 9999\n",
      "Data columns (total 14 columns):\n",
      " #   Column           Non-Null Count  Dtype  \n",
      "---  ------           --------------  -----  \n",
      " 0   RowNumber        10000 non-null  int64  \n",
      " 1   CustomerId       10000 non-null  int64  \n",
      " 2   Surname          10000 non-null  object \n",
      " 3   CreditScore      10000 non-null  int64  \n",
      " 4   Geography        10000 non-null  object \n",
      " 5   Gender           10000 non-null  object \n",
      " 6   Age              10000 non-null  int64  \n",
      " 7   Tenure           10000 non-null  float64\n",
      " 8   Balance          10000 non-null  float64\n",
      " 9   NumOfProducts    10000 non-null  int64  \n",
      " 10  HasCrCard        10000 non-null  int64  \n",
      " 11  IsActiveMember   10000 non-null  int64  \n",
      " 12  EstimatedSalary  10000 non-null  float64\n",
      " 13  Exited           10000 non-null  int64  \n",
      "dtypes: float64(3), int64(8), object(3)\n",
      "memory usage: 1.1+ MB\n"
     ]
    }
   ],
   "source": [
    "#Replace null values of tenure column with zero. We will assume null values means the customer has not reached a year yet\n",
    "data['Tenure'].fillna(0, inplace=True)\n",
    "data.info()"
   ]
  },
  {
   "cell_type": "markdown",
   "metadata": {},
   "source": [
    "**The steps below will split the dataset into a training, validation, and test set. It will also split each set into features and targets.**"
   ]
  },
  {
   "cell_type": "code",
   "execution_count": 7,
   "metadata": {},
   "outputs": [],
   "source": [
    "#drop irrelevent columns\n",
    "data_features = data.drop(['RowNumber', 'CustomerId', 'Surname'], axis=1)"
   ]
  },
  {
   "cell_type": "code",
   "execution_count": 8,
   "metadata": {},
   "outputs": [],
   "source": [
    "#use one hot encoding to make object columns into numerical\n",
    "data_ohe = pd.get_dummies(data_features, drop_first=True)"
   ]
  },
  {
   "cell_type": "code",
   "execution_count": 9,
   "metadata": {},
   "outputs": [],
   "source": [
    "#use train test split function twice to divide dataset into training, validation, and test set\n",
    "df_train, df_test = train_test_split(data_ohe, test_size=0.2, random_state=12345)\n",
    "\n",
    "df_train, df_valid = train_test_split(df_train, test_size=0.25, random_state=12345)"
   ]
  },
  {
   "cell_type": "code",
   "execution_count": 10,
   "metadata": {},
   "outputs": [],
   "source": [
    "#create features and target variables for training set\n",
    "features_train = df_train.drop(['Exited'], axis=1)\n",
    "target_train = df_train['Exited']\n",
    "\n",
    "#create features and target variables for validation set\n",
    "features_valid = df_valid.drop(['Exited'], axis=1)\n",
    "target_valid = df_valid['Exited']\n",
    "\n",
    "#create features and target variables for test set\n",
    "features_test = df_test.drop(['Exited'], axis=1)\n",
    "target_test = df_test['Exited']"
   ]
  },
  {
   "cell_type": "markdown",
   "metadata": {},
   "source": [
    "**This stage includes training machine learning models that include LogisticRegression, RandomForestClassifier, and DecisionTreeClassifier.**"
   ]
  },
  {
   "cell_type": "code",
   "execution_count": 11,
   "metadata": {},
   "outputs": [],
   "source": [
    "#hyperparameter tuning for logistic regression\n",
    "param_grid_lr = {\"C\": [0.01, 0.1, 1, 10], \"class_weight\": [None, \"balanced\"]}\n",
    "log_reg = GridSearchCV(LogisticRegression(random_state=42), param_grid_lr, scoring=\"f1\", cv=3, n_jobs=-1)\n",
    "log_reg.fit(features_train, target_train)\n",
    "best_lr = log_reg.best_estimator_"
   ]
  },
  {
   "cell_type": "code",
   "execution_count": 12,
   "metadata": {},
   "outputs": [
    {
     "data": {
      "text/plain": [
       "0.43212851405622493"
      ]
     },
     "execution_count": 12,
     "metadata": {},
     "output_type": "execute_result"
    }
   ],
   "source": [
    "#calculate f1 score on validation set\n",
    "predicted_best_lr = best_lr.predict(features_valid)\n",
    "f1_score(target_valid, predicted_best_lr)"
   ]
  },
  {
   "cell_type": "code",
   "execution_count": 13,
   "metadata": {},
   "outputs": [
    {
     "name": "stdout",
     "output_type": "stream",
     "text": [
      "Accuracy of the best model on the validation set (n_estimators = 13): 0.5679389312977099\n"
     ]
    }
   ],
   "source": [
    "#create loop to find best number of estimators for random forest classifier model\n",
    "best_score = 0\n",
    "best_est = 0\n",
    "for est in range(1, 15): #choose hyperparameter range\n",
    "    model = RandomForestClassifier(random_state=54321, n_estimators=est) #set number of trees\n",
    "    model.fit(features_train, target_train) #train model on training set\n",
    "    predictions = model.predict(features_valid)\n",
    "    result = f1_score(target_valid, predictions) #calculate accuracy score on validation set\n",
    "    if result > best_score:\n",
    "        best_score = result #save best score on validation set\n",
    "        best_est = est #save number of estimators corresponding to best score\n",
    "\n",
    "print(\"Accuracy of the best model on the validation set (n_estimators = {}): {}\".format(best_est, best_score))"
   ]
  },
  {
   "cell_type": "code",
   "execution_count": 14,
   "metadata": {},
   "outputs": [
    {
     "name": "stdout",
     "output_type": "stream",
     "text": [
      "F1 on validation set: 0.5624012638230647\n"
     ]
    }
   ],
   "source": [
    "#use random forest classifier model to find accuracy score on validation set\n",
    "model = RandomForestClassifier(random_state=12345, n_estimators=13, class_weight='balanced') #use 1 number of estimators which was the best\n",
    "model.fit(features_train, target_train)\n",
    "predicted_valid = model.predict(features_valid) #write code for validation set calculations here\n",
    "\n",
    "print('F1 on validation set:', f1_score(target_valid, predicted_valid)) #finish up code here"
   ]
  },
  {
   "cell_type": "code",
   "execution_count": 15,
   "metadata": {},
   "outputs": [
    {
     "name": "stdout",
     "output_type": "stream",
     "text": [
      "F1 score of the best model: 0.5497630331753556\n",
      "DecisionTreeClassifier(max_depth=7, random_state=54321)\n"
     ]
    }
   ],
   "source": [
    "#create loop to find best depth for decision tree\n",
    "best_model = None\n",
    "best_result = 0\n",
    "for depth in range(1, 11):\n",
    "    model = DecisionTreeClassifier(random_state=54321, max_depth=depth) #create a model with the given depth\n",
    "    model.fit(features_train, target_train) #train the model\n",
    "    predictions = model.predict(features_valid) #get the model's predictions\n",
    "    result = f1_score(target_valid, predictions) #calculate the accuracy\n",
    "    if result > best_result:\n",
    "        best_model = model\n",
    "        best_result = result\n",
    "        \n",
    "print(\"F1 score of the best model:\", best_result)\n",
    "print(best_model)"
   ]
  },
  {
   "cell_type": "markdown",
   "metadata": {},
   "source": [
    "**After training each model, the one with the highest F1 score was RandomForestClassifier, so now it is time to fine tune. The steps below will view the imbalance of the dataset and a method to balance it.**"
   ]
  },
  {
   "cell_type": "code",
   "execution_count": 16,
   "metadata": {},
   "outputs": [
    {
     "data": {
      "image/png": "[encoded data removed]",
      "text/plain": [
       "<Figure size 640x480 with 1 Axes>"
      ]
     },
     "metadata": {},
     "output_type": "display_data"
    }
   ],
   "source": [
    "#create a bar graph showing imbalance of dataset\n",
    "target_test.value_counts().plot(kind='bar')\n",
    "plt.show()"
   ]
  },
  {
   "cell_type": "markdown",
   "metadata": {},
   "source": [
    "**The graph demonstrates the imbalance of clients who have left the bank versus still with the bank. If we keep it as is, the machine could simply predict zero and get a high percentage of real positive answers. However, this does not help the task of determining who may actually decide to leave.**"
   ]
  },
  {
   "cell_type": "code",
   "execution_count": 17,
   "metadata": {},
   "outputs": [],
   "source": [
    "#use standard scaler on numerical columns to balance each set\n",
    "numeric = ['CreditScore', 'Age', 'Tenure', 'Balance', 'NumOfProducts', 'HasCrCard', 'IsActiveMember', 'EstimatedSalary']\n",
    "scaler = StandardScaler()\n",
    "scaler.fit(features_train[numeric])\n",
    "features_train[numeric] = scaler.transform(features_train[numeric])\n",
    "features_valid[numeric] = scaler.transform(features_valid[numeric])\n",
    "features_test[numeric] = scaler.transform(features_test[numeric])"
   ]
  },
  {
   "cell_type": "code",
   "execution_count": 18,
   "metadata": {},
   "outputs": [],
   "source": [
    "#upsample to balance the dataset\n",
    "def upsample(features_train, target_train, repeat):\n",
    "    features_zeros = features_train[target_train == 0]\n",
    "    features_ones = features_train[target_train == 1]\n",
    "    target_zeros = target_train[target_train == 0]\n",
    "    target_ones = target_train[target_train == 1]\n",
    "    \n",
    "    arg1 = pd.concat([features_zeros] + [features_ones] * repeat)\n",
    "    arg2 = pd.concat([target_zeros] + [target_ones] * repeat)\n",
    "    \n",
    "    features_upsampled, target_upsampled = shuffle(arg1, arg2, random_state=12345)\n",
    "    \n",
    "    return features_upsampled, target_upsampled, arg1, arg2\n",
    "\n",
    "features_upsampled, target_upsampled, arg1, arg2 = upsample(features_train, target_train, 4)"
   ]
  },
  {
   "cell_type": "markdown",
   "metadata": {},
   "source": [
    "**Now that the dataset has been balanced, we can tune the hyperparameters of RandomForestClassifier to increase the F1 score.**"
   ]
  },
  {
   "cell_type": "code",
   "execution_count": 22,
   "metadata": {},
   "outputs": [],
   "source": [
    "#hyperparameter tuning for random forest\n",
    "param_grid_rf = {\"n_estimators\": [50, 100, 200], \"max_depth\": [5, 10, None], \"class_weight\": [None, \"balanced\"]}\n",
    "rf_model = GridSearchCV(RandomForestClassifier(random_state=12345), param_grid_rf, scoring=\"f1\", cv=3, n_jobs=-1)\n",
    "rf_model.fit(features_train, target_train)\n",
    "best_rf = rf_model.best_estimator_"
   ]
  },
  {
   "cell_type": "code",
   "execution_count": 24,
   "metadata": {},
   "outputs": [
    {
     "name": "stdout",
     "output_type": "stream",
     "text": [
      "F1 score on test set: 0.631079478054567\n"
     ]
    }
   ],
   "source": [
    "#calculate f1 score on test set\n",
    "predicted_best_rf = best_rf.predict(features_test)\n",
    "print('F1 score on test set:', f1_score(target_test, predicted_best_rf))"
   ]
  },
  {
   "cell_type": "code",
   "execution_count": 25,
   "metadata": {},
   "outputs": [
    {
     "name": "stdout",
     "output_type": "stream",
     "text": [
      "AUC-ROC score on test set: 0.8671745542088314\n"
     ]
    }
   ],
   "source": [
    "#calculate auc roc score on test set\n",
    "probabilities_test = best_rf.predict_proba(features_test)\n",
    "probabilities_one_test = probabilities_test[:, 1]\n",
    "auc_roc = roc_auc_score(target_test, probabilities_one_test)\n",
    "print('AUC-ROC score on test set:', auc_roc)"
   ]
  },
  {
   "cell_type": "markdown",
   "metadata": {},
   "source": [
    "**After balancing the dataset, the final F1 score was 0.63 and the AUC-ROC score was 0.86. Both of these metrics show that the trained RandomForest model should minimize false positives/negatives.**"
   ]
  }
 ],
 "metadata": {
  "ExecuteTimeLog": [
   {
    "duration": 315,
    "start_time": "2025-04-25T03:55:53.192Z"
   },
   {
    "duration": 8,
    "start_time": "2025-04-25T03:56:39.091Z"
   },
   {
    "duration": 26,
    "start_time": "2025-04-25T03:57:59.666Z"
   },
   {
    "duration": 156,
    "start_time": "2025-04-25T18:01:59.178Z"
   },
   {
    "duration": 284,
    "start_time": "2025-04-25T18:02:07.674Z"
   },
   {
    "duration": 22,
    "start_time": "2025-04-25T18:02:07.960Z"
   },
   {
    "duration": 9,
    "start_time": "2025-04-25T18:02:07.984Z"
   },
   {
    "duration": 160,
    "start_time": "2025-04-26T03:55:04.861Z"
   },
   {
    "duration": 314,
    "start_time": "2025-04-26T03:55:11.641Z"
   },
   {
    "duration": 28,
    "start_time": "2025-04-26T03:55:11.957Z"
   },
   {
    "duration": 11,
    "start_time": "2025-04-26T03:55:11.986Z"
   },
   {
    "duration": 15,
    "start_time": "2025-04-26T03:55:11.999Z"
   },
   {
    "duration": 15,
    "start_time": "2025-04-26T03:58:09.619Z"
   },
   {
    "duration": 15,
    "start_time": "2025-04-26T03:58:41.983Z"
   },
   {
    "duration": 5,
    "start_time": "2025-04-26T03:59:16.026Z"
   },
   {
    "duration": 14,
    "start_time": "2025-04-26T03:59:37.965Z"
   },
   {
    "duration": 17,
    "start_time": "2025-04-26T04:00:45.195Z"
   },
   {
    "duration": 176,
    "start_time": "2025-04-26T04:13:23.156Z"
   },
   {
    "duration": 14,
    "start_time": "2025-04-26T04:14:00.691Z"
   },
   {
    "duration": 11,
    "start_time": "2025-04-26T04:14:40.585Z"
   },
   {
    "duration": 15,
    "start_time": "2025-04-26T04:14:55.823Z"
   },
   {
    "duration": 9,
    "start_time": "2025-04-26T04:15:06.936Z"
   },
   {
    "duration": 12,
    "start_time": "2025-04-26T04:15:25.037Z"
   },
   {
    "duration": 281,
    "start_time": "2025-04-26T04:15:47.101Z"
   },
   {
    "duration": 17,
    "start_time": "2025-04-26T04:15:47.385Z"
   },
   {
    "duration": 10,
    "start_time": "2025-04-26T04:15:47.403Z"
   },
   {
    "duration": 28,
    "start_time": "2025-04-26T04:15:47.415Z"
   },
   {
    "duration": 18,
    "start_time": "2025-04-26T04:15:47.445Z"
   },
   {
    "duration": 10,
    "start_time": "2025-04-26T04:15:47.465Z"
   },
   {
    "duration": 10,
    "start_time": "2025-04-26T04:16:23.726Z"
   },
   {
    "duration": 4,
    "start_time": "2025-04-26T04:24:09.101Z"
   },
   {
    "duration": 7,
    "start_time": "2025-04-26T04:24:44.716Z"
   },
   {
    "duration": 14,
    "start_time": "2025-04-26T04:28:01.006Z"
   },
   {
    "duration": 192,
    "start_time": "2025-04-26T04:36:45.524Z"
   },
   {
    "duration": 495,
    "start_time": "2025-04-26T04:37:13.131Z"
   },
   {
    "duration": 54,
    "start_time": "2025-04-26T04:37:16.919Z"
   },
   {
    "duration": 7,
    "start_time": "2025-04-26T04:38:35.259Z"
   },
   {
    "duration": 16,
    "start_time": "2025-04-26T04:40:07.901Z"
   },
   {
    "duration": 3,
    "start_time": "2025-04-26T04:48:11.686Z"
   },
   {
    "duration": 13,
    "start_time": "2025-04-26T05:01:35.061Z"
   },
   {
    "duration": 12,
    "start_time": "2025-04-26T05:03:05.376Z"
   },
   {
    "duration": 160,
    "start_time": "2025-04-26T12:58:55.250Z"
   },
   {
    "duration": 739,
    "start_time": "2025-04-26T12:59:11.761Z"
   },
   {
    "duration": 29,
    "start_time": "2025-04-26T12:59:12.502Z"
   },
   {
    "duration": 11,
    "start_time": "2025-04-26T12:59:12.533Z"
   },
   {
    "duration": 15,
    "start_time": "2025-04-26T12:59:12.546Z"
   },
   {
    "duration": 23,
    "start_time": "2025-04-26T12:59:12.564Z"
   },
   {
    "duration": 11,
    "start_time": "2025-04-26T12:59:12.589Z"
   },
   {
    "duration": 8,
    "start_time": "2025-04-26T12:59:12.601Z"
   },
   {
    "duration": 6,
    "start_time": "2025-04-26T12:59:12.610Z"
   },
   {
    "duration": 17,
    "start_time": "2025-04-26T12:59:12.618Z"
   },
   {
    "duration": 169,
    "start_time": "2025-04-26T12:59:12.636Z"
   },
   {
    "duration": 28,
    "start_time": "2025-04-26T13:12:51.822Z"
   },
   {
    "duration": 11,
    "start_time": "2025-04-26T13:18:16.415Z"
   },
   {
    "duration": 10,
    "start_time": "2025-04-26T13:18:33.991Z"
   },
   {
    "duration": 753,
    "start_time": "2025-04-26T13:18:51.340Z"
   },
   {
    "duration": 16,
    "start_time": "2025-04-26T13:18:52.096Z"
   },
   {
    "duration": 11,
    "start_time": "2025-04-26T13:18:52.113Z"
   },
   {
    "duration": 15,
    "start_time": "2025-04-26T13:18:52.125Z"
   },
   {
    "duration": 14,
    "start_time": "2025-04-26T13:18:52.143Z"
   },
   {
    "duration": 29,
    "start_time": "2025-04-26T13:18:52.159Z"
   },
   {
    "duration": 7,
    "start_time": "2025-04-26T13:18:52.190Z"
   },
   {
    "duration": 5,
    "start_time": "2025-04-26T13:18:52.199Z"
   },
   {
    "duration": 18,
    "start_time": "2025-04-26T13:18:52.206Z"
   },
   {
    "duration": 170,
    "start_time": "2025-04-26T13:18:52.226Z"
   },
   {
    "duration": 52,
    "start_time": "2025-04-26T13:43:03.746Z"
   },
   {
    "duration": 243,
    "start_time": "2025-04-26T13:43:12.765Z"
   },
   {
    "duration": 13,
    "start_time": "2025-04-26T13:43:26.516Z"
   },
   {
    "duration": 157,
    "start_time": "2025-04-27T04:07:39.338Z"
   },
   {
    "duration": 728,
    "start_time": "2025-04-27T04:07:48.591Z"
   },
   {
    "duration": 22,
    "start_time": "2025-04-27T04:07:49.321Z"
   },
   {
    "duration": 12,
    "start_time": "2025-04-27T04:07:49.345Z"
   },
   {
    "duration": 17,
    "start_time": "2025-04-27T04:07:49.360Z"
   },
   {
    "duration": 16,
    "start_time": "2025-04-27T04:07:49.380Z"
   },
   {
    "duration": 10,
    "start_time": "2025-04-27T04:07:49.409Z"
   },
   {
    "duration": 63,
    "start_time": "2025-04-27T04:07:49.421Z"
   },
   {
    "duration": 260,
    "start_time": "2025-04-27T04:07:49.486Z"
   },
   {
    "duration": 14,
    "start_time": "2025-04-27T04:07:49.748Z"
   },
   {
    "duration": 23,
    "start_time": "2025-04-27T04:07:49.764Z"
   },
   {
    "duration": 511,
    "start_time": "2025-04-27T04:07:49.790Z"
   },
   {
    "duration": 117,
    "start_time": "2025-04-27T04:08:37.111Z"
   },
   {
    "duration": 51,
    "start_time": "2025-04-27T04:10:09.696Z"
   },
   {
    "duration": 3,
    "start_time": "2025-04-27T04:12:10.128Z"
   },
   {
    "duration": 159,
    "start_time": "2025-04-27T04:12:13.412Z"
   },
   {
    "duration": 768,
    "start_time": "2025-04-27T20:24:30.097Z"
   },
   {
    "duration": 25,
    "start_time": "2025-04-27T20:24:30.867Z"
   },
   {
    "duration": 12,
    "start_time": "2025-04-27T20:24:30.894Z"
   },
   {
    "duration": 17,
    "start_time": "2025-04-27T20:24:30.908Z"
   },
   {
    "duration": 17,
    "start_time": "2025-04-27T20:24:30.927Z"
   },
   {
    "duration": 9,
    "start_time": "2025-04-27T20:24:30.946Z"
   },
   {
    "duration": 72,
    "start_time": "2025-04-27T20:24:30.957Z"
   },
   {
    "duration": 264,
    "start_time": "2025-04-27T20:24:31.031Z"
   },
   {
    "duration": 13,
    "start_time": "2025-04-27T20:24:31.296Z"
   },
   {
    "duration": 24,
    "start_time": "2025-04-27T20:24:31.319Z"
   },
   {
    "duration": 180,
    "start_time": "2025-04-27T20:24:31.345Z"
   },
   {
    "duration": 906,
    "start_time": "2025-04-27T20:34:59.714Z"
   },
   {
    "duration": 727,
    "start_time": "2025-04-27T20:35:53.809Z"
   },
   {
    "duration": 16,
    "start_time": "2025-04-27T20:35:54.538Z"
   },
   {
    "duration": 11,
    "start_time": "2025-04-27T20:35:54.555Z"
   },
   {
    "duration": 15,
    "start_time": "2025-04-27T20:35:54.567Z"
   },
   {
    "duration": 16,
    "start_time": "2025-04-27T20:35:54.583Z"
   },
   {
    "duration": 9,
    "start_time": "2025-04-27T20:35:54.619Z"
   },
   {
    "duration": 916,
    "start_time": "2025-04-27T20:35:54.629Z"
   },
   {
    "duration": 0,
    "start_time": "2025-04-27T20:35:55.547Z"
   },
   {
    "duration": 0,
    "start_time": "2025-04-27T20:35:55.549Z"
   },
   {
    "duration": 0,
    "start_time": "2025-04-27T20:35:55.550Z"
   },
   {
    "duration": 0,
    "start_time": "2025-04-27T20:35:55.552Z"
   },
   {
    "duration": 0,
    "start_time": "2025-04-27T20:35:55.553Z"
   },
   {
    "duration": 36,
    "start_time": "2025-04-27T20:37:46.007Z"
   },
   {
    "duration": 5,
    "start_time": "2025-04-27T20:38:20.734Z"
   },
   {
    "duration": 3,
    "start_time": "2025-04-27T20:39:19.989Z"
   },
   {
    "duration": 10,
    "start_time": "2025-04-27T20:39:53.616Z"
   },
   {
    "duration": 801,
    "start_time": "2025-04-27T20:39:59.632Z"
   },
   {
    "duration": 16,
    "start_time": "2025-04-27T20:40:00.436Z"
   },
   {
    "duration": 11,
    "start_time": "2025-04-27T20:40:00.454Z"
   },
   {
    "duration": 14,
    "start_time": "2025-04-27T20:40:00.468Z"
   },
   {
    "duration": 37,
    "start_time": "2025-04-27T20:40:00.483Z"
   },
   {
    "duration": 12,
    "start_time": "2025-04-27T20:40:00.522Z"
   },
   {
    "duration": 5,
    "start_time": "2025-04-27T20:40:00.535Z"
   },
   {
    "duration": 9,
    "start_time": "2025-04-27T20:40:00.541Z"
   },
   {
    "duration": 6,
    "start_time": "2025-04-27T20:40:00.551Z"
   },
   {
    "duration": 6,
    "start_time": "2025-04-27T20:40:00.560Z"
   },
   {
    "duration": 17,
    "start_time": "2025-04-27T20:40:00.567Z"
   },
   {
    "duration": 47,
    "start_time": "2025-04-27T20:40:00.585Z"
   },
   {
    "duration": 0,
    "start_time": "2025-04-27T20:54:40.851Z"
   },
   {
    "duration": 103,
    "start_time": "2025-04-27T20:55:53.529Z"
   },
   {
    "duration": 4,
    "start_time": "2025-04-27T20:56:02.845Z"
   },
   {
    "duration": 109,
    "start_time": "2025-04-27T20:56:08.525Z"
   },
   {
    "duration": 3,
    "start_time": "2025-04-27T20:56:28.795Z"
   },
   {
    "duration": 88,
    "start_time": "2025-04-27T20:56:36.938Z"
   },
   {
    "duration": 2639,
    "start_time": "2025-04-27T22:30:02.326Z"
   },
   {
    "duration": 498,
    "start_time": "2025-04-27T22:36:30.939Z"
   },
   {
    "duration": 1260,
    "start_time": "2025-04-27T22:37:04.277Z"
   },
   {
    "duration": 37,
    "start_time": "2025-04-27T22:37:05.542Z"
   },
   {
    "duration": 17,
    "start_time": "2025-04-27T22:37:05.582Z"
   },
   {
    "duration": 25,
    "start_time": "2025-04-27T22:37:05.604Z"
   },
   {
    "duration": 25,
    "start_time": "2025-04-27T22:37:05.720Z"
   },
   {
    "duration": 15,
    "start_time": "2025-04-27T22:37:05.748Z"
   },
   {
    "duration": 8,
    "start_time": "2025-04-27T22:37:05.767Z"
   },
   {
    "duration": 170,
    "start_time": "2025-04-27T22:37:05.777Z"
   },
   {
    "duration": 11,
    "start_time": "2025-04-27T22:37:05.950Z"
   },
   {
    "duration": 8,
    "start_time": "2025-04-27T22:37:05.964Z"
   },
   {
    "duration": 9,
    "start_time": "2025-04-27T22:37:05.974Z"
   },
   {
    "duration": 50,
    "start_time": "2025-04-27T22:37:05.985Z"
   },
   {
    "duration": 30,
    "start_time": "2025-04-27T22:37:06.040Z"
   },
   {
    "duration": 548,
    "start_time": "2025-04-27T22:37:06.076Z"
   },
   {
    "duration": 391,
    "start_time": "2025-04-27T22:41:53.283Z"
   },
   {
    "duration": 28,
    "start_time": "2025-04-27T22:41:58.929Z"
   },
   {
    "duration": 93,
    "start_time": "2025-04-27T22:46:11.535Z"
   },
   {
    "duration": 678,
    "start_time": "2025-04-27T22:48:50.634Z"
   },
   {
    "duration": 79,
    "start_time": "2025-04-27T22:49:00.352Z"
   },
   {
    "duration": 25,
    "start_time": "2025-04-27T22:56:29.990Z"
   },
   {
    "duration": 4,
    "start_time": "2025-04-27T22:56:58.084Z"
   },
   {
    "duration": 168,
    "start_time": "2025-04-27T22:57:04.031Z"
   },
   {
    "duration": 82,
    "start_time": "2025-04-27T23:00:21.336Z"
   },
   {
    "duration": 16,
    "start_time": "2025-04-27T23:18:59.631Z"
   },
   {
    "duration": 76,
    "start_time": "2025-04-27T23:19:17.959Z"
   },
   {
    "duration": 71,
    "start_time": "2025-04-27T23:20:26.979Z"
   },
   {
    "duration": 21,
    "start_time": "2025-04-27T23:21:55.843Z"
   },
   {
    "duration": 950,
    "start_time": "2025-04-27T23:22:07.752Z"
   },
   {
    "duration": 19,
    "start_time": "2025-04-27T23:22:08.704Z"
   },
   {
    "duration": 12,
    "start_time": "2025-04-27T23:22:08.725Z"
   },
   {
    "duration": 14,
    "start_time": "2025-04-27T23:22:08.738Z"
   },
   {
    "duration": 17,
    "start_time": "2025-04-27T23:22:08.822Z"
   },
   {
    "duration": 9,
    "start_time": "2025-04-27T23:22:08.841Z"
   },
   {
    "duration": 3,
    "start_time": "2025-04-27T23:22:08.851Z"
   },
   {
    "duration": 117,
    "start_time": "2025-04-27T23:22:08.856Z"
   },
   {
    "duration": 8,
    "start_time": "2025-04-27T23:22:08.975Z"
   },
   {
    "duration": 6,
    "start_time": "2025-04-27T23:22:08.985Z"
   },
   {
    "duration": 24,
    "start_time": "2025-04-27T23:22:08.992Z"
   },
   {
    "duration": 20,
    "start_time": "2025-04-27T23:22:09.019Z"
   },
   {
    "duration": 18,
    "start_time": "2025-04-27T23:22:09.040Z"
   },
   {
    "duration": 764,
    "start_time": "2025-04-27T23:22:09.061Z"
   },
   {
    "duration": 67,
    "start_time": "2025-04-27T23:22:09.827Z"
   },
   {
    "duration": 153,
    "start_time": "2025-04-27T23:22:09.896Z"
   },
   {
    "duration": 21,
    "start_time": "2025-04-27T23:22:10.051Z"
   },
   {
    "duration": 147,
    "start_time": "2025-04-27T23:23:51.052Z"
   },
   {
    "duration": 76,
    "start_time": "2025-04-27T23:25:42.504Z"
   },
   {
    "duration": 64,
    "start_time": "2025-04-27T23:25:48.853Z"
   },
   {
    "duration": 72,
    "start_time": "2025-04-27T23:25:53.132Z"
   },
   {
    "duration": 922,
    "start_time": "2025-04-27T23:25:59.976Z"
   },
   {
    "duration": 16,
    "start_time": "2025-04-27T23:26:00.900Z"
   },
   {
    "duration": 11,
    "start_time": "2025-04-27T23:26:00.918Z"
   },
   {
    "duration": 14,
    "start_time": "2025-04-27T23:26:00.931Z"
   },
   {
    "duration": 82,
    "start_time": "2025-04-27T23:26:00.946Z"
   },
   {
    "duration": 9,
    "start_time": "2025-04-27T23:26:01.029Z"
   },
   {
    "duration": 5,
    "start_time": "2025-04-27T23:26:01.040Z"
   },
   {
    "duration": 120,
    "start_time": "2025-04-27T23:26:01.046Z"
   },
   {
    "duration": 8,
    "start_time": "2025-04-27T23:26:01.168Z"
   },
   {
    "duration": 6,
    "start_time": "2025-04-27T23:26:01.179Z"
   },
   {
    "duration": 5,
    "start_time": "2025-04-27T23:26:01.186Z"
   },
   {
    "duration": 35,
    "start_time": "2025-04-27T23:26:01.192Z"
   },
   {
    "duration": 18,
    "start_time": "2025-04-27T23:26:01.231Z"
   },
   {
    "duration": 782,
    "start_time": "2025-04-27T23:26:01.251Z"
   },
   {
    "duration": 79,
    "start_time": "2025-04-27T23:26:02.035Z"
   },
   {
    "duration": 159,
    "start_time": "2025-04-27T23:26:02.116Z"
   },
   {
    "duration": 21,
    "start_time": "2025-04-27T23:26:02.277Z"
   },
   {
    "duration": 72,
    "start_time": "2025-04-27T23:26:49.250Z"
   },
   {
    "duration": 72,
    "start_time": "2025-04-27T23:27:02.892Z"
   },
   {
    "duration": 71,
    "start_time": "2025-04-27T23:27:04.728Z"
   },
   {
    "duration": 80,
    "start_time": "2025-04-27T23:27:06.498Z"
   },
   {
    "duration": 76,
    "start_time": "2025-04-27T23:27:08.546Z"
   },
   {
    "duration": 70,
    "start_time": "2025-04-27T23:27:11.122Z"
   },
   {
    "duration": 148,
    "start_time": "2025-04-27T23:27:13.317Z"
   },
   {
    "duration": 74,
    "start_time": "2025-04-27T23:27:19.603Z"
   },
   {
    "duration": 975,
    "start_time": "2025-04-27T23:27:36.139Z"
   },
   {
    "duration": 17,
    "start_time": "2025-04-27T23:27:37.116Z"
   },
   {
    "duration": 11,
    "start_time": "2025-04-27T23:27:37.134Z"
   },
   {
    "duration": 15,
    "start_time": "2025-04-27T23:27:37.147Z"
   },
   {
    "duration": 17,
    "start_time": "2025-04-27T23:27:37.235Z"
   },
   {
    "duration": 10,
    "start_time": "2025-04-27T23:27:37.253Z"
   },
   {
    "duration": 4,
    "start_time": "2025-04-27T23:27:37.265Z"
   },
   {
    "duration": 125,
    "start_time": "2025-04-27T23:27:37.271Z"
   },
   {
    "duration": 17,
    "start_time": "2025-04-27T23:27:37.398Z"
   },
   {
    "duration": 6,
    "start_time": "2025-04-27T23:27:37.418Z"
   },
   {
    "duration": 5,
    "start_time": "2025-04-27T23:27:37.426Z"
   },
   {
    "duration": 18,
    "start_time": "2025-04-27T23:27:37.433Z"
   },
   {
    "duration": 56,
    "start_time": "2025-04-27T23:27:37.453Z"
   },
   {
    "duration": 736,
    "start_time": "2025-04-27T23:27:37.511Z"
   },
   {
    "duration": 80,
    "start_time": "2025-04-27T23:27:38.249Z"
   },
   {
    "duration": 154,
    "start_time": "2025-04-27T23:27:38.331Z"
   },
   {
    "duration": 30,
    "start_time": "2025-04-27T23:27:38.486Z"
   },
   {
    "duration": 24,
    "start_time": "2025-04-27T23:29:15.483Z"
   },
   {
    "duration": 73,
    "start_time": "2025-04-27T23:29:43.493Z"
   },
   {
    "duration": 890,
    "start_time": "2025-04-27T23:30:04.312Z"
   },
   {
    "duration": 18,
    "start_time": "2025-04-27T23:30:05.204Z"
   },
   {
    "duration": 11,
    "start_time": "2025-04-27T23:30:05.223Z"
   },
   {
    "duration": 15,
    "start_time": "2025-04-27T23:30:05.236Z"
   },
   {
    "duration": 17,
    "start_time": "2025-04-27T23:30:05.312Z"
   },
   {
    "duration": 10,
    "start_time": "2025-04-27T23:30:05.331Z"
   },
   {
    "duration": 3,
    "start_time": "2025-04-27T23:30:05.343Z"
   },
   {
    "duration": 116,
    "start_time": "2025-04-27T23:30:05.347Z"
   },
   {
    "duration": 7,
    "start_time": "2025-04-27T23:30:05.465Z"
   },
   {
    "duration": 6,
    "start_time": "2025-04-27T23:30:05.476Z"
   },
   {
    "duration": 8,
    "start_time": "2025-04-27T23:30:05.483Z"
   },
   {
    "duration": 32,
    "start_time": "2025-04-27T23:30:05.493Z"
   },
   {
    "duration": 20,
    "start_time": "2025-04-27T23:30:05.526Z"
   },
   {
    "duration": 785,
    "start_time": "2025-04-27T23:30:05.550Z"
   },
   {
    "duration": 76,
    "start_time": "2025-04-27T23:30:06.337Z"
   },
   {
    "duration": 161,
    "start_time": "2025-04-27T23:30:06.415Z"
   },
   {
    "duration": 21,
    "start_time": "2025-04-27T23:30:06.578Z"
   },
   {
    "duration": 168,
    "start_time": "2025-04-28T19:46:09.915Z"
   },
   {
    "duration": 2646,
    "start_time": "2025-04-28T19:46:17.508Z"
   },
   {
    "duration": 28,
    "start_time": "2025-04-28T19:46:20.156Z"
   },
   {
    "duration": 10,
    "start_time": "2025-04-28T19:46:20.186Z"
   },
   {
    "duration": 14,
    "start_time": "2025-04-28T19:46:20.198Z"
   },
   {
    "duration": 17,
    "start_time": "2025-04-28T19:46:20.214Z"
   },
   {
    "duration": 11,
    "start_time": "2025-04-28T19:46:20.233Z"
   },
   {
    "duration": 3,
    "start_time": "2025-04-28T19:46:20.245Z"
   },
   {
    "duration": 131,
    "start_time": "2025-04-28T19:46:20.249Z"
   },
   {
    "duration": 8,
    "start_time": "2025-04-28T19:46:20.381Z"
   },
   {
    "duration": 6,
    "start_time": "2025-04-28T19:46:20.392Z"
   },
   {
    "duration": 6,
    "start_time": "2025-04-28T19:46:20.412Z"
   },
   {
    "duration": 18,
    "start_time": "2025-04-28T19:46:20.420Z"
   },
   {
    "duration": 17,
    "start_time": "2025-04-28T19:46:20.439Z"
   },
   {
    "duration": 762,
    "start_time": "2025-04-28T19:46:20.458Z"
   },
   {
    "duration": 69,
    "start_time": "2025-04-28T19:46:21.222Z"
   },
   {
    "duration": 155,
    "start_time": "2025-04-28T19:46:21.293Z"
   },
   {
    "duration": 21,
    "start_time": "2025-04-28T19:46:21.450Z"
   },
   {
    "duration": 303,
    "start_time": "2025-04-28T19:46:21.473Z"
   },
   {
    "duration": 3,
    "start_time": "2025-04-28T19:48:14.260Z"
   },
   {
    "duration": 10,
    "start_time": "2025-04-28T19:48:22.780Z"
   },
   {
    "duration": 134,
    "start_time": "2025-04-28T19:51:48.158Z"
   },
   {
    "duration": 186,
    "start_time": "2025-05-01T04:11:02.238Z"
   },
   {
    "duration": 3763,
    "start_time": "2025-05-01T04:11:48.767Z"
   },
   {
    "duration": 86,
    "start_time": "2025-05-01T04:11:56.951Z"
   },
   {
    "duration": 69,
    "start_time": "2025-05-01T04:12:26.371Z"
   },
   {
    "duration": 1000,
    "start_time": "2025-05-01T04:12:35.376Z"
   },
   {
    "duration": 25,
    "start_time": "2025-05-01T04:12:36.378Z"
   },
   {
    "duration": 10,
    "start_time": "2025-05-01T04:12:36.405Z"
   },
   {
    "duration": 23,
    "start_time": "2025-05-01T04:12:36.417Z"
   },
   {
    "duration": 65,
    "start_time": "2025-05-01T04:12:36.442Z"
   },
   {
    "duration": 17,
    "start_time": "2025-05-01T04:12:36.509Z"
   },
   {
    "duration": 5,
    "start_time": "2025-05-01T04:12:36.528Z"
   },
   {
    "duration": 123,
    "start_time": "2025-05-01T04:12:36.534Z"
   },
   {
    "duration": 10,
    "start_time": "2025-05-01T04:12:36.659Z"
   },
   {
    "duration": 7,
    "start_time": "2025-05-01T04:12:36.673Z"
   },
   {
    "duration": 7,
    "start_time": "2025-05-01T04:12:36.681Z"
   },
   {
    "duration": 57,
    "start_time": "2025-05-01T04:12:36.690Z"
   },
   {
    "duration": 21,
    "start_time": "2025-05-01T04:12:36.750Z"
   },
   {
    "duration": 850,
    "start_time": "2025-05-01T04:12:36.774Z"
   },
   {
    "duration": 82,
    "start_time": "2025-05-01T04:12:37.626Z"
   },
   {
    "duration": 178,
    "start_time": "2025-05-01T04:12:37.710Z"
   },
   {
    "duration": 21,
    "start_time": "2025-05-01T04:12:37.890Z"
   },
   {
    "duration": 10,
    "start_time": "2025-05-01T04:12:37.913Z"
   },
   {
    "duration": 160,
    "start_time": "2025-05-01T04:12:37.926Z"
   },
   {
    "duration": 21582,
    "start_time": "2025-05-01T04:12:59.476Z"
   },
   {
    "duration": 20,
    "start_time": "2025-05-01T04:15:21.576Z"
   },
   {
    "duration": 900,
    "start_time": "2025-05-01T04:22:22.627Z"
   },
   {
    "duration": 21,
    "start_time": "2025-05-01T04:22:23.529Z"
   },
   {
    "duration": 12,
    "start_time": "2025-05-01T04:22:23.552Z"
   },
   {
    "duration": 17,
    "start_time": "2025-05-01T04:22:23.565Z"
   },
   {
    "duration": 17,
    "start_time": "2025-05-01T04:22:23.664Z"
   },
   {
    "duration": 8,
    "start_time": "2025-05-01T04:22:23.683Z"
   },
   {
    "duration": 3,
    "start_time": "2025-05-01T04:22:23.694Z"
   },
   {
    "duration": 119,
    "start_time": "2025-05-01T04:22:23.698Z"
   },
   {
    "duration": 8,
    "start_time": "2025-05-01T04:22:23.820Z"
   },
   {
    "duration": 7,
    "start_time": "2025-05-01T04:22:23.829Z"
   },
   {
    "duration": 5,
    "start_time": "2025-05-01T04:22:23.838Z"
   },
   {
    "duration": 25,
    "start_time": "2025-05-01T04:22:23.845Z"
   },
   {
    "duration": 59,
    "start_time": "2025-05-01T04:22:23.873Z"
   },
   {
    "duration": 744,
    "start_time": "2025-05-01T04:22:23.938Z"
   },
   {
    "duration": 93,
    "start_time": "2025-05-01T04:22:24.684Z"
   },
   {
    "duration": 156,
    "start_time": "2025-05-01T04:22:24.779Z"
   },
   {
    "duration": 21,
    "start_time": "2025-05-01T04:22:24.937Z"
   },
   {
    "duration": 10,
    "start_time": "2025-05-01T04:22:24.960Z"
   },
   {
    "duration": 177,
    "start_time": "2025-05-01T04:22:24.971Z"
   },
   {
    "duration": 21187,
    "start_time": "2025-05-01T04:22:25.150Z"
   },
   {
    "duration": 33,
    "start_time": "2025-05-01T04:22:46.339Z"
   },
   {
    "duration": 182,
    "start_time": "2025-05-01T19:45:54.401Z"
   },
   {
    "duration": 2625,
    "start_time": "2025-05-01T19:45:59.914Z"
   },
   {
    "duration": 25,
    "start_time": "2025-05-01T19:46:02.541Z"
   },
   {
    "duration": 10,
    "start_time": "2025-05-01T19:46:02.567Z"
   },
   {
    "duration": 14,
    "start_time": "2025-05-01T19:46:02.578Z"
   },
   {
    "duration": 28,
    "start_time": "2025-05-01T19:46:02.595Z"
   },
   {
    "duration": 11,
    "start_time": "2025-05-01T19:46:02.624Z"
   },
   {
    "duration": 3,
    "start_time": "2025-05-01T19:46:02.636Z"
   },
   {
    "duration": 111,
    "start_time": "2025-05-01T19:46:02.641Z"
   },
   {
    "duration": 8,
    "start_time": "2025-05-01T19:46:02.753Z"
   },
   {
    "duration": 7,
    "start_time": "2025-05-01T19:46:02.763Z"
   },
   {
    "duration": 5,
    "start_time": "2025-05-01T19:46:02.771Z"
   },
   {
    "duration": 41,
    "start_time": "2025-05-01T19:46:02.778Z"
   },
   {
    "duration": 1200,
    "start_time": "2025-05-01T19:46:02.821Z"
   },
   {
    "duration": 96,
    "start_time": "2025-05-01T19:46:04.027Z"
   },
   {
    "duration": 728,
    "start_time": "2025-05-01T19:46:04.128Z"
   },
   {
    "duration": 75,
    "start_time": "2025-05-01T19:46:04.857Z"
   },
   {
    "duration": 149,
    "start_time": "2025-05-01T19:46:04.933Z"
   },
   {
    "duration": 21,
    "start_time": "2025-05-01T19:46:05.084Z"
   },
   {
    "duration": 18,
    "start_time": "2025-05-01T19:46:05.107Z"
   },
   {
    "duration": 147,
    "start_time": "2025-05-01T19:46:05.127Z"
   },
   {
    "duration": 20654,
    "start_time": "2025-05-01T19:46:05.276Z"
   },
   {
    "duration": 29,
    "start_time": "2025-05-01T19:46:25.932Z"
   },
   {
    "duration": 282,
    "start_time": "2025-05-01T19:46:25.963Z"
   },
   {
    "duration": 31,
    "start_time": "2025-05-01T19:46:35.721Z"
   },
   {
    "duration": 895,
    "start_time": "2025-05-01T19:46:41.414Z"
   },
   {
    "duration": 15,
    "start_time": "2025-05-01T19:46:42.311Z"
   },
   {
    "duration": 9,
    "start_time": "2025-05-01T19:46:42.328Z"
   },
   {
    "duration": 14,
    "start_time": "2025-05-01T19:46:42.339Z"
   },
   {
    "duration": 27,
    "start_time": "2025-05-01T19:46:42.396Z"
   },
   {
    "duration": 9,
    "start_time": "2025-05-01T19:46:42.425Z"
   },
   {
    "duration": 2,
    "start_time": "2025-05-01T19:46:42.437Z"
   },
   {
    "duration": 116,
    "start_time": "2025-05-01T19:46:42.441Z"
   },
   {
    "duration": 8,
    "start_time": "2025-05-01T19:46:42.559Z"
   },
   {
    "duration": 6,
    "start_time": "2025-05-01T19:46:42.569Z"
   },
   {
    "duration": 5,
    "start_time": "2025-05-01T19:46:42.576Z"
   },
   {
    "duration": 42,
    "start_time": "2025-05-01T19:46:42.583Z"
   },
   {
    "duration": 1198,
    "start_time": "2025-05-01T19:46:42.626Z"
   },
   {
    "duration": 315,
    "start_time": "2025-05-01T19:46:43.827Z"
   },
   {
    "duration": 0,
    "start_time": "2025-05-01T19:46:44.144Z"
   },
   {
    "duration": 0,
    "start_time": "2025-05-01T19:46:44.145Z"
   },
   {
    "duration": 0,
    "start_time": "2025-05-01T19:46:44.146Z"
   },
   {
    "duration": 0,
    "start_time": "2025-05-01T19:46:44.147Z"
   },
   {
    "duration": 0,
    "start_time": "2025-05-01T19:46:44.148Z"
   },
   {
    "duration": 0,
    "start_time": "2025-05-01T19:46:44.149Z"
   },
   {
    "duration": 0,
    "start_time": "2025-05-01T19:46:44.150Z"
   },
   {
    "duration": 0,
    "start_time": "2025-05-01T19:46:44.150Z"
   },
   {
    "duration": 0,
    "start_time": "2025-05-01T19:46:44.151Z"
   },
   {
    "duration": 0,
    "start_time": "2025-05-01T19:46:44.153Z"
   },
   {
    "duration": 19,
    "start_time": "2025-05-01T19:47:21.793Z"
   },
   {
    "duration": 7,
    "start_time": "2025-05-01T19:47:28.061Z"
   },
   {
    "duration": 877,
    "start_time": "2025-05-01T19:47:54.029Z"
   },
   {
    "duration": 19,
    "start_time": "2025-05-01T19:47:54.909Z"
   },
   {
    "duration": 13,
    "start_time": "2025-05-01T19:47:54.929Z"
   },
   {
    "duration": 61,
    "start_time": "2025-05-01T19:47:54.945Z"
   },
   {
    "duration": 16,
    "start_time": "2025-05-01T19:47:55.019Z"
   },
   {
    "duration": 9,
    "start_time": "2025-05-01T19:47:55.036Z"
   },
   {
    "duration": 4,
    "start_time": "2025-05-01T19:47:55.046Z"
   },
   {
    "duration": 123,
    "start_time": "2025-05-01T19:47:55.052Z"
   },
   {
    "duration": 8,
    "start_time": "2025-05-01T19:47:55.178Z"
   },
   {
    "duration": 6,
    "start_time": "2025-05-01T19:47:55.189Z"
   },
   {
    "duration": 5,
    "start_time": "2025-05-01T19:47:55.197Z"
   },
   {
    "duration": 35,
    "start_time": "2025-05-01T19:47:55.203Z"
   },
   {
    "duration": 1181,
    "start_time": "2025-05-01T19:47:55.240Z"
   },
   {
    "duration": 10,
    "start_time": "2025-05-01T19:47:56.422Z"
   },
   {
    "duration": 89,
    "start_time": "2025-05-01T19:47:56.436Z"
   },
   {
    "duration": 734,
    "start_time": "2025-05-01T19:47:56.527Z"
   },
   {
    "duration": 74,
    "start_time": "2025-05-01T19:47:57.262Z"
   },
   {
    "duration": 153,
    "start_time": "2025-05-01T19:47:57.338Z"
   },
   {
    "duration": 26,
    "start_time": "2025-05-01T19:47:57.494Z"
   },
   {
    "duration": 8,
    "start_time": "2025-05-01T19:47:57.521Z"
   },
   {
    "duration": 146,
    "start_time": "2025-05-01T19:47:57.531Z"
   },
   {
    "duration": 20525,
    "start_time": "2025-05-01T19:47:57.678Z"
   },
   {
    "duration": 38,
    "start_time": "2025-05-01T19:48:18.204Z"
   },
   {
    "duration": 252,
    "start_time": "2025-05-01T19:48:18.245Z"
   },
   {
    "duration": 31,
    "start_time": "2025-05-01T19:51:42.057Z"
   },
   {
    "duration": 3,
    "start_time": "2025-05-01T19:53:05.481Z"
   },
   {
    "duration": 20,
    "start_time": "2025-05-01T19:57:23.225Z"
   },
   {
    "duration": 10,
    "start_time": "2025-05-01T19:58:32.022Z"
   },
   {
    "duration": 6,
    "start_time": "2025-05-01T19:59:08.167Z"
   },
   {
    "duration": 29,
    "start_time": "2025-05-01T19:59:13.845Z"
   },
   {
    "duration": 3,
    "start_time": "2025-05-01T20:04:14.900Z"
   },
   {
    "duration": 7,
    "start_time": "2025-05-01T20:16:01.004Z"
   },
   {
    "duration": 10,
    "start_time": "2025-05-01T20:21:18.240Z"
   },
   {
    "duration": 147,
    "start_time": "2025-05-01T20:23:42.979Z"
   },
   {
    "duration": 8,
    "start_time": "2025-05-01T20:26:54.959Z"
   },
   {
    "duration": 99,
    "start_time": "2025-05-01T20:26:57.920Z"
   },
   {
    "duration": 20631,
    "start_time": "2025-05-01T20:27:02.621Z"
   },
   {
    "duration": 40,
    "start_time": "2025-05-01T20:27:23.284Z"
   },
   {
    "duration": 100,
    "start_time": "2025-05-01T20:28:22.936Z"
   },
   {
    "duration": 217,
    "start_time": "2025-05-01T23:05:13.181Z"
   },
   {
    "duration": 2704,
    "start_time": "2025-05-01T23:05:23.053Z"
   },
   {
    "duration": 29,
    "start_time": "2025-05-01T23:05:25.759Z"
   },
   {
    "duration": 11,
    "start_time": "2025-05-01T23:05:25.790Z"
   },
   {
    "duration": 15,
    "start_time": "2025-05-01T23:05:25.803Z"
   },
   {
    "duration": 15,
    "start_time": "2025-05-01T23:05:25.826Z"
   },
   {
    "duration": 10,
    "start_time": "2025-05-01T23:05:25.843Z"
   },
   {
    "duration": 3,
    "start_time": "2025-05-01T23:05:25.854Z"
   },
   {
    "duration": 10,
    "start_time": "2025-05-01T23:05:25.858Z"
   },
   {
    "duration": 7,
    "start_time": "2025-05-01T23:05:25.869Z"
   },
   {
    "duration": 5,
    "start_time": "2025-05-01T23:05:25.878Z"
   },
   {
    "duration": 130,
    "start_time": "2025-05-01T23:05:25.885Z"
   },
   {
    "duration": 27,
    "start_time": "2025-05-01T23:05:26.023Z"
   },
   {
    "duration": 892,
    "start_time": "2025-05-01T23:05:26.052Z"
   },
   {
    "duration": 7,
    "start_time": "2025-05-01T23:05:26.948Z"
   },
   {
    "duration": 795,
    "start_time": "2025-05-01T23:05:26.956Z"
   },
   {
    "duration": 78,
    "start_time": "2025-05-01T23:05:27.753Z"
   },
   {
    "duration": 156,
    "start_time": "2025-05-01T23:05:27.833Z"
   },
   {
    "duration": 22,
    "start_time": "2025-05-01T23:05:27.991Z"
   },
   {
    "duration": 17,
    "start_time": "2025-05-01T23:05:28.015Z"
   },
   {
    "duration": 113,
    "start_time": "2025-05-01T23:05:28.034Z"
   },
   {
    "duration": 20859,
    "start_time": "2025-05-01T23:05:28.148Z"
   },
   {
    "duration": 36,
    "start_time": "2025-05-01T23:05:49.009Z"
   },
   {
    "duration": 10,
    "start_time": "2025-05-01T23:05:49.047Z"
   },
   {
    "duration": 86,
    "start_time": "2025-05-01T23:12:01.673Z"
   },
   {
    "duration": 946,
    "start_time": "2025-05-01T23:13:25.536Z"
   },
   {
    "duration": 19,
    "start_time": "2025-05-01T23:13:26.485Z"
   },
   {
    "duration": 11,
    "start_time": "2025-05-01T23:13:26.506Z"
   },
   {
    "duration": 15,
    "start_time": "2025-05-01T23:13:26.525Z"
   },
   {
    "duration": 18,
    "start_time": "2025-05-01T23:13:26.589Z"
   },
   {
    "duration": 23,
    "start_time": "2025-05-01T23:13:26.609Z"
   },
   {
    "duration": 3,
    "start_time": "2025-05-01T23:13:26.634Z"
   },
   {
    "duration": 8,
    "start_time": "2025-05-01T23:13:26.639Z"
   },
   {
    "duration": 6,
    "start_time": "2025-05-01T23:13:26.649Z"
   },
   {
    "duration": 6,
    "start_time": "2025-05-01T23:13:26.657Z"
   },
   {
    "duration": 2086,
    "start_time": "2025-05-01T23:13:26.664Z"
   },
   {
    "duration": 75,
    "start_time": "2025-05-01T23:13:28.752Z"
   },
   {
    "duration": 739,
    "start_time": "2025-05-01T23:13:28.828Z"
   },
   {
    "duration": 84,
    "start_time": "2025-05-01T23:13:29.571Z"
   },
   {
    "duration": 157,
    "start_time": "2025-05-01T23:13:29.657Z"
   },
   {
    "duration": 23,
    "start_time": "2025-05-01T23:13:29.816Z"
   },
   {
    "duration": 119,
    "start_time": "2025-05-01T23:13:29.841Z"
   },
   {
    "duration": 21,
    "start_time": "2025-05-01T23:13:29.962Z"
   },
   {
    "duration": 7,
    "start_time": "2025-05-01T23:13:29.985Z"
   },
   {
    "duration": 121,
    "start_time": "2025-05-01T23:13:29.994Z"
   },
   {
    "duration": 20809,
    "start_time": "2025-05-01T23:13:30.117Z"
   },
   {
    "duration": 31,
    "start_time": "2025-05-01T23:13:50.928Z"
   },
   {
    "duration": 10,
    "start_time": "2025-05-01T23:13:50.961Z"
   },
   {
    "duration": 146,
    "start_time": "2025-05-01T23:14:52.321Z"
   },
   {
    "duration": 648,
    "start_time": "2025-05-01T23:17:07.221Z"
   },
   {
    "duration": 15,
    "start_time": "2025-05-01T23:17:35.996Z"
   },
   {
    "duration": 22,
    "start_time": "2025-05-01T23:18:23.938Z"
   },
   {
    "duration": 28,
    "start_time": "2025-05-01T23:18:41.010Z"
   },
   {
    "duration": 34,
    "start_time": "2025-05-01T23:18:49.152Z"
   },
   {
    "duration": 39,
    "start_time": "2025-05-01T23:18:55.091Z"
   },
   {
    "duration": 43,
    "start_time": "2025-05-01T23:19:02.076Z"
   },
   {
    "duration": 50,
    "start_time": "2025-05-01T23:19:08.262Z"
   },
   {
    "duration": 60,
    "start_time": "2025-05-01T23:19:14.308Z"
   },
   {
    "duration": 70,
    "start_time": "2025-05-01T23:19:19.308Z"
   },
   {
    "duration": 63,
    "start_time": "2025-05-01T23:19:28.136Z"
   },
   {
    "duration": 74,
    "start_time": "2025-05-01T23:19:33.945Z"
   },
   {
    "duration": 82,
    "start_time": "2025-05-01T23:19:40.374Z"
   },
   {
    "duration": 93,
    "start_time": "2025-05-01T23:19:46.927Z"
   },
   {
    "duration": 82,
    "start_time": "2025-05-01T23:19:54.566Z"
   },
   {
    "duration": 92,
    "start_time": "2025-05-01T23:20:00.521Z"
   },
   {
    "duration": 105,
    "start_time": "2025-05-01T23:20:05.494Z"
   },
   {
    "duration": 116,
    "start_time": "2025-05-01T23:20:12.811Z"
   },
   {
    "duration": 98,
    "start_time": "2025-05-01T23:20:18.016Z"
   },
   {
    "duration": 891,
    "start_time": "2025-05-01T23:35:34.530Z"
   },
   {
    "duration": 17,
    "start_time": "2025-05-01T23:35:35.424Z"
   },
   {
    "duration": 10,
    "start_time": "2025-05-01T23:35:35.443Z"
   },
   {
    "duration": 14,
    "start_time": "2025-05-01T23:35:35.454Z"
   },
   {
    "duration": 16,
    "start_time": "2025-05-01T23:35:35.526Z"
   },
   {
    "duration": 9,
    "start_time": "2025-05-01T23:35:35.544Z"
   },
   {
    "duration": 3,
    "start_time": "2025-05-01T23:35:35.555Z"
   },
   {
    "duration": 9,
    "start_time": "2025-05-01T23:35:35.559Z"
   },
   {
    "duration": 6,
    "start_time": "2025-05-01T23:35:35.570Z"
   },
   {
    "duration": 4,
    "start_time": "2025-05-01T23:35:35.578Z"
   },
   {
    "duration": 2751,
    "start_time": "2025-05-01T23:35:35.584Z"
   },
   {
    "duration": 91,
    "start_time": "2025-05-01T23:35:38.339Z"
   },
   {
    "duration": 300,
    "start_time": "2025-05-01T23:35:38.433Z"
   },
   {
    "duration": 0,
    "start_time": "2025-05-01T23:35:38.735Z"
   },
   {
    "duration": 0,
    "start_time": "2025-05-01T23:35:38.736Z"
   },
   {
    "duration": 0,
    "start_time": "2025-05-01T23:35:38.737Z"
   },
   {
    "duration": 0,
    "start_time": "2025-05-01T23:35:38.739Z"
   },
   {
    "duration": 0,
    "start_time": "2025-05-01T23:35:38.741Z"
   },
   {
    "duration": 0,
    "start_time": "2025-05-01T23:35:38.743Z"
   },
   {
    "duration": 0,
    "start_time": "2025-05-01T23:35:38.744Z"
   },
   {
    "duration": 0,
    "start_time": "2025-05-01T23:35:38.746Z"
   },
   {
    "duration": 665,
    "start_time": "2025-05-01T23:37:42.067Z"
   },
   {
    "duration": 932,
    "start_time": "2025-05-01T23:37:52.387Z"
   },
   {
    "duration": 16,
    "start_time": "2025-05-01T23:37:53.322Z"
   },
   {
    "duration": 12,
    "start_time": "2025-05-01T23:37:53.339Z"
   },
   {
    "duration": 16,
    "start_time": "2025-05-01T23:37:53.354Z"
   },
   {
    "duration": 99,
    "start_time": "2025-05-01T23:37:53.373Z"
   },
   {
    "duration": 12,
    "start_time": "2025-05-01T23:37:53.474Z"
   },
   {
    "duration": 4,
    "start_time": "2025-05-01T23:37:53.488Z"
   },
   {
    "duration": 30,
    "start_time": "2025-05-01T23:37:53.494Z"
   },
   {
    "duration": 8,
    "start_time": "2025-05-01T23:37:53.527Z"
   },
   {
    "duration": 5,
    "start_time": "2025-05-01T23:37:53.538Z"
   },
   {
    "duration": 2700,
    "start_time": "2025-05-01T23:37:53.546Z"
   },
   {
    "duration": 11,
    "start_time": "2025-05-01T23:37:56.323Z"
   },
   {
    "duration": 769,
    "start_time": "2025-05-01T23:37:56.339Z"
   },
   {
    "duration": 99,
    "start_time": "2025-05-01T23:37:57.109Z"
   },
   {
    "duration": 161,
    "start_time": "2025-05-01T23:37:57.210Z"
   },
   {
    "duration": 105,
    "start_time": "2025-05-01T23:37:57.373Z"
   },
   {
    "duration": 22,
    "start_time": "2025-05-01T23:37:57.479Z"
   },
   {
    "duration": 21,
    "start_time": "2025-05-01T23:37:57.503Z"
   },
   {
    "duration": 20702,
    "start_time": "2025-05-01T23:37:57.526Z"
   },
   {
    "duration": 30,
    "start_time": "2025-05-01T23:38:18.229Z"
   },
   {
    "duration": 6,
    "start_time": "2025-05-01T23:38:18.260Z"
   },
   {
    "duration": 6,
    "start_time": "2025-05-01T23:39:51.778Z"
   },
   {
    "duration": 81,
    "start_time": "2025-05-01T23:40:20.881Z"
   },
   {
    "duration": 992,
    "start_time": "2025-05-01T23:43:25.241Z"
   },
   {
    "duration": 17,
    "start_time": "2025-05-01T23:43:26.235Z"
   },
   {
    "duration": 12,
    "start_time": "2025-05-01T23:43:26.254Z"
   },
   {
    "duration": 16,
    "start_time": "2025-05-01T23:43:26.268Z"
   },
   {
    "duration": 97,
    "start_time": "2025-05-01T23:43:26.286Z"
   },
   {
    "duration": 10,
    "start_time": "2025-05-01T23:43:26.385Z"
   },
   {
    "duration": 4,
    "start_time": "2025-05-01T23:43:26.396Z"
   },
   {
    "duration": 32,
    "start_time": "2025-05-01T23:43:26.401Z"
   },
   {
    "duration": 6,
    "start_time": "2025-05-01T23:43:26.435Z"
   },
   {
    "duration": 5,
    "start_time": "2025-05-01T23:43:26.444Z"
   },
   {
    "duration": 2683,
    "start_time": "2025-05-01T23:43:26.451Z"
   },
   {
    "duration": 8,
    "start_time": "2025-05-01T23:43:29.136Z"
   },
   {
    "duration": 817,
    "start_time": "2025-05-01T23:43:29.146Z"
   },
   {
    "duration": 90,
    "start_time": "2025-05-01T23:43:29.965Z"
   },
   {
    "duration": 163,
    "start_time": "2025-05-01T23:43:30.057Z"
   },
   {
    "duration": 111,
    "start_time": "2025-05-01T23:43:30.224Z"
   },
   {
    "duration": 23,
    "start_time": "2025-05-01T23:43:30.337Z"
   },
   {
    "duration": 20962,
    "start_time": "2025-05-01T23:43:30.362Z"
   },
   {
    "duration": 33,
    "start_time": "2025-05-01T23:43:51.326Z"
   },
   {
    "duration": 7,
    "start_time": "2025-05-01T23:43:51.363Z"
   },
   {
    "duration": 237,
    "start_time": "2025-05-01T23:49:10.385Z"
   },
   {
    "duration": 22,
    "start_time": "2025-05-01T23:55:48.586Z"
   },
   {
    "duration": 955,
    "start_time": "2025-05-01T23:57:07.576Z"
   },
   {
    "duration": 10125,
    "start_time": "2025-05-01T23:57:25.311Z"
   },
   {
    "duration": 30,
    "start_time": "2025-05-01T23:57:41.611Z"
   },
   {
    "duration": 1256,
    "start_time": "2025-05-01T23:58:03.422Z"
   },
   {
    "duration": 0,
    "start_time": "2025-05-01T23:58:04.681Z"
   },
   {
    "duration": 0,
    "start_time": "2025-05-01T23:58:04.683Z"
   },
   {
    "duration": 0,
    "start_time": "2025-05-01T23:58:04.685Z"
   },
   {
    "duration": 0,
    "start_time": "2025-05-01T23:58:04.686Z"
   },
   {
    "duration": 0,
    "start_time": "2025-05-01T23:58:04.688Z"
   },
   {
    "duration": 0,
    "start_time": "2025-05-01T23:58:04.689Z"
   },
   {
    "duration": 0,
    "start_time": "2025-05-01T23:58:04.690Z"
   },
   {
    "duration": 0,
    "start_time": "2025-05-01T23:58:04.692Z"
   },
   {
    "duration": 0,
    "start_time": "2025-05-01T23:58:04.693Z"
   },
   {
    "duration": 0,
    "start_time": "2025-05-01T23:58:04.694Z"
   },
   {
    "duration": 0,
    "start_time": "2025-05-01T23:58:04.696Z"
   },
   {
    "duration": 0,
    "start_time": "2025-05-01T23:58:04.697Z"
   },
   {
    "duration": 0,
    "start_time": "2025-05-01T23:58:04.698Z"
   },
   {
    "duration": 0,
    "start_time": "2025-05-01T23:58:04.699Z"
   },
   {
    "duration": 0,
    "start_time": "2025-05-01T23:58:04.724Z"
   },
   {
    "duration": 0,
    "start_time": "2025-05-01T23:58:04.728Z"
   },
   {
    "duration": 0,
    "start_time": "2025-05-01T23:58:04.730Z"
   },
   {
    "duration": 0,
    "start_time": "2025-05-01T23:58:04.731Z"
   },
   {
    "duration": 0,
    "start_time": "2025-05-01T23:58:04.733Z"
   },
   {
    "duration": 0,
    "start_time": "2025-05-01T23:58:04.735Z"
   },
   {
    "duration": 0,
    "start_time": "2025-05-01T23:58:04.736Z"
   },
   {
    "duration": 1556,
    "start_time": "2025-05-01T23:58:34.147Z"
   },
   {
    "duration": 24,
    "start_time": "2025-05-01T23:58:40.050Z"
   },
   {
    "duration": 16,
    "start_time": "2025-05-01T23:59:51.653Z"
   },
   {
    "duration": 3,
    "start_time": "2025-05-02T00:00:10.167Z"
   },
   {
    "duration": 979,
    "start_time": "2025-05-02T00:00:18.897Z"
   },
   {
    "duration": 17,
    "start_time": "2025-05-02T00:00:19.878Z"
   },
   {
    "duration": 11,
    "start_time": "2025-05-02T00:00:19.896Z"
   },
   {
    "duration": 16,
    "start_time": "2025-05-02T00:00:19.909Z"
   },
   {
    "duration": 83,
    "start_time": "2025-05-02T00:00:19.926Z"
   },
   {
    "duration": 8,
    "start_time": "2025-05-02T00:00:20.011Z"
   },
   {
    "duration": 5,
    "start_time": "2025-05-02T00:00:20.024Z"
   },
   {
    "duration": 12,
    "start_time": "2025-05-02T00:00:20.031Z"
   },
   {
    "duration": 9,
    "start_time": "2025-05-02T00:00:20.047Z"
   },
   {
    "duration": 5,
    "start_time": "2025-05-02T00:00:20.060Z"
   },
   {
    "duration": 3858,
    "start_time": "2025-05-02T00:00:20.067Z"
   },
   {
    "duration": 15,
    "start_time": "2025-05-02T00:00:23.927Z"
   },
   {
    "duration": 803,
    "start_time": "2025-05-02T00:00:23.945Z"
   },
   {
    "duration": 87,
    "start_time": "2025-05-02T00:00:24.750Z"
   },
   {
    "duration": 167,
    "start_time": "2025-05-02T00:00:24.839Z"
   },
   {
    "duration": 106,
    "start_time": "2025-05-02T00:00:25.007Z"
   },
   {
    "duration": 42,
    "start_time": "2025-05-02T00:00:25.114Z"
   },
   {
    "duration": 8,
    "start_time": "2025-05-02T00:00:25.158Z"
   },
   {
    "duration": 291,
    "start_time": "2025-05-02T00:00:25.167Z"
   },
   {
    "duration": 0,
    "start_time": "2025-05-02T00:00:25.460Z"
   },
   {
    "duration": 0,
    "start_time": "2025-05-02T00:00:25.461Z"
   },
   {
    "duration": 0,
    "start_time": "2025-05-02T00:00:25.463Z"
   },
   {
    "duration": 904,
    "start_time": "2025-05-02T00:00:52.039Z"
   },
   {
    "duration": 20,
    "start_time": "2025-05-02T00:00:52.945Z"
   },
   {
    "duration": 11,
    "start_time": "2025-05-02T00:00:52.966Z"
   },
   {
    "duration": 14,
    "start_time": "2025-05-02T00:00:52.979Z"
   },
   {
    "duration": 97,
    "start_time": "2025-05-02T00:00:52.995Z"
   },
   {
    "duration": 12,
    "start_time": "2025-05-02T00:00:53.093Z"
   },
   {
    "duration": 20,
    "start_time": "2025-05-02T00:00:53.106Z"
   },
   {
    "duration": 10,
    "start_time": "2025-05-02T00:00:53.128Z"
   },
   {
    "duration": 7,
    "start_time": "2025-05-02T00:00:53.140Z"
   },
   {
    "duration": 6,
    "start_time": "2025-05-02T00:00:53.150Z"
   },
   {
    "duration": 3470,
    "start_time": "2025-05-02T00:00:53.158Z"
   },
   {
    "duration": 17,
    "start_time": "2025-05-02T00:00:56.637Z"
   },
   {
    "duration": 813,
    "start_time": "2025-05-02T00:00:56.661Z"
   },
   {
    "duration": 101,
    "start_time": "2025-05-02T00:00:57.475Z"
   },
   {
    "duration": 169,
    "start_time": "2025-05-02T00:00:57.578Z"
   },
   {
    "duration": 112,
    "start_time": "2025-05-02T00:00:57.749Z"
   },
   {
    "duration": 22,
    "start_time": "2025-05-02T00:00:57.863Z"
   },
   {
    "duration": 7,
    "start_time": "2025-05-02T00:00:57.887Z"
   },
   {
    "duration": 23099,
    "start_time": "2025-05-02T00:00:57.896Z"
   },
   {
    "duration": 44,
    "start_time": "2025-05-02T00:01:20.996Z"
   },
   {
    "duration": 9,
    "start_time": "2025-05-02T00:01:21.042Z"
   },
   {
    "duration": 8,
    "start_time": "2025-05-02T00:01:32.522Z"
   },
   {
    "duration": 7,
    "start_time": "2025-05-02T00:01:37.537Z"
   },
   {
    "duration": 36,
    "start_time": "2025-05-02T00:02:06.243Z"
   },
   {
    "duration": 6,
    "start_time": "2025-05-02T00:02:08.399Z"
   },
   {
    "duration": 604,
    "start_time": "2025-05-02T00:05:31.337Z"
   },
   {
    "duration": 1924,
    "start_time": "2025-05-02T00:06:04.305Z"
   },
   {
    "duration": 318,
    "start_time": "2025-05-02T00:06:29.548Z"
   },
   {
    "duration": 1465,
    "start_time": "2025-05-02T00:08:54.025Z"
   },
   {
    "duration": 31,
    "start_time": "2025-05-02T00:08:59.235Z"
   },
   {
    "duration": 329,
    "start_time": "2025-05-02T00:10:18.576Z"
   },
   {
    "duration": 4,
    "start_time": "2025-05-02T00:12:16.400Z"
   },
   {
    "duration": 397,
    "start_time": "2025-05-02T00:25:54.714Z"
   },
   {
    "duration": 90,
    "start_time": "2025-05-02T00:26:32.612Z"
   },
   {
    "duration": 8,
    "start_time": "2025-05-02T00:32:03.091Z"
   },
   {
    "duration": 7,
    "start_time": "2025-05-02T00:32:14.310Z"
   },
   {
    "duration": 12,
    "start_time": "2025-05-02T00:37:33.740Z"
   },
   {
    "duration": 5,
    "start_time": "2025-05-02T00:37:50.103Z"
   },
   {
    "duration": 6,
    "start_time": "2025-05-02T00:37:57.172Z"
   },
   {
    "duration": 60,
    "start_time": "2025-05-02T00:38:59.043Z"
   },
   {
    "duration": 5,
    "start_time": "2025-05-02T00:39:25.646Z"
   },
   {
    "duration": 868,
    "start_time": "2025-05-02T00:39:40.250Z"
   },
   {
    "duration": 17,
    "start_time": "2025-05-02T00:39:41.120Z"
   },
   {
    "duration": 10,
    "start_time": "2025-05-02T00:39:41.139Z"
   },
   {
    "duration": 13,
    "start_time": "2025-05-02T00:39:41.151Z"
   },
   {
    "duration": 87,
    "start_time": "2025-05-02T00:39:41.166Z"
   },
   {
    "duration": 10,
    "start_time": "2025-05-02T00:39:41.255Z"
   },
   {
    "duration": 4,
    "start_time": "2025-05-02T00:39:41.267Z"
   },
   {
    "duration": 9,
    "start_time": "2025-05-02T00:39:41.272Z"
   },
   {
    "duration": 7,
    "start_time": "2025-05-02T00:39:41.282Z"
   },
   {
    "duration": 31,
    "start_time": "2025-05-02T00:39:41.293Z"
   },
   {
    "duration": 2513,
    "start_time": "2025-05-02T00:39:41.327Z"
   },
   {
    "duration": 87,
    "start_time": "2025-05-02T00:39:43.842Z"
   },
   {
    "duration": 719,
    "start_time": "2025-05-02T00:39:43.934Z"
   },
   {
    "duration": 90,
    "start_time": "2025-05-02T00:39:44.655Z"
   },
   {
    "duration": 150,
    "start_time": "2025-05-02T00:39:44.746Z"
   },
   {
    "duration": 106,
    "start_time": "2025-05-02T00:39:44.898Z"
   },
   {
    "duration": 26,
    "start_time": "2025-05-02T00:39:45.005Z"
   },
   {
    "duration": 5,
    "start_time": "2025-05-02T00:39:45.032Z"
   },
   {
    "duration": 21043,
    "start_time": "2025-05-02T00:39:45.039Z"
   },
   {
    "duration": 30,
    "start_time": "2025-05-02T00:40:06.084Z"
   },
   {
    "duration": 7,
    "start_time": "2025-05-02T00:40:06.125Z"
   },
   {
    "duration": 8,
    "start_time": "2025-05-02T00:49:05.182Z"
   },
   {
    "duration": 7,
    "start_time": "2025-05-02T00:49:59.197Z"
   },
   {
    "duration": 43,
    "start_time": "2025-05-02T00:51:47.159Z"
   },
   {
    "duration": 991,
    "start_time": "2025-05-02T00:52:01.452Z"
   },
   {
    "duration": 17,
    "start_time": "2025-05-02T00:52:02.446Z"
   },
   {
    "duration": 11,
    "start_time": "2025-05-02T00:52:02.465Z"
   },
   {
    "duration": 15,
    "start_time": "2025-05-02T00:52:02.478Z"
   },
   {
    "duration": 98,
    "start_time": "2025-05-02T00:52:02.494Z"
   },
   {
    "duration": 10,
    "start_time": "2025-05-02T00:52:02.593Z"
   },
   {
    "duration": 20,
    "start_time": "2025-05-02T00:52:02.605Z"
   },
   {
    "duration": 9,
    "start_time": "2025-05-02T00:52:02.627Z"
   },
   {
    "duration": 8,
    "start_time": "2025-05-02T00:52:02.638Z"
   },
   {
    "duration": 7,
    "start_time": "2025-05-02T00:52:02.650Z"
   },
   {
    "duration": 2667,
    "start_time": "2025-05-02T00:52:02.661Z"
   },
   {
    "duration": 9,
    "start_time": "2025-05-02T00:52:05.329Z"
   },
   {
    "duration": 771,
    "start_time": "2025-05-02T00:52:05.339Z"
   },
   {
    "duration": 85,
    "start_time": "2025-05-02T00:52:06.112Z"
   },
   {
    "duration": 154,
    "start_time": "2025-05-02T00:52:06.199Z"
   },
   {
    "duration": 97,
    "start_time": "2025-05-02T00:52:06.355Z"
   },
   {
    "duration": 21,
    "start_time": "2025-05-02T00:52:06.454Z"
   },
   {
    "duration": 7,
    "start_time": "2025-05-02T00:52:06.476Z"
   },
   {
    "duration": 20782,
    "start_time": "2025-05-02T00:52:06.485Z"
   },
   {
    "duration": 29,
    "start_time": "2025-05-02T00:52:27.269Z"
   },
   {
    "duration": 53,
    "start_time": "2025-05-02T00:52:27.300Z"
   },
   {
    "duration": 41,
    "start_time": "2025-05-02T00:52:52.882Z"
   },
   {
    "duration": 853,
    "start_time": "2025-05-02T01:02:11.980Z"
   },
   {
    "duration": 15,
    "start_time": "2025-05-02T01:02:12.835Z"
   },
   {
    "duration": 10,
    "start_time": "2025-05-02T01:02:12.852Z"
   },
   {
    "duration": 14,
    "start_time": "2025-05-02T01:02:12.865Z"
   },
   {
    "duration": 72,
    "start_time": "2025-05-02T01:02:12.880Z"
   },
   {
    "duration": 9,
    "start_time": "2025-05-02T01:02:12.953Z"
   },
   {
    "duration": 3,
    "start_time": "2025-05-02T01:02:12.964Z"
   },
   {
    "duration": 8,
    "start_time": "2025-05-02T01:02:12.968Z"
   },
   {
    "duration": 6,
    "start_time": "2025-05-02T01:02:12.978Z"
   },
   {
    "duration": 5,
    "start_time": "2025-05-02T01:02:12.987Z"
   },
   {
    "duration": 2619,
    "start_time": "2025-05-02T01:02:13.024Z"
   },
   {
    "duration": 81,
    "start_time": "2025-05-02T01:02:15.644Z"
   },
   {
    "duration": 734,
    "start_time": "2025-05-02T01:02:15.727Z"
   },
   {
    "duration": 90,
    "start_time": "2025-05-02T01:02:16.463Z"
   },
   {
    "duration": 150,
    "start_time": "2025-05-02T01:02:16.555Z"
   },
   {
    "duration": 106,
    "start_time": "2025-05-02T01:02:16.707Z"
   },
   {
    "duration": 23,
    "start_time": "2025-05-02T01:02:16.815Z"
   },
   {
    "duration": 8,
    "start_time": "2025-05-02T01:02:16.840Z"
   },
   {
    "duration": 20844,
    "start_time": "2025-05-02T01:02:16.850Z"
   },
   {
    "duration": 49,
    "start_time": "2025-05-02T01:02:37.696Z"
   },
   {
    "duration": 41,
    "start_time": "2025-05-02T01:02:37.746Z"
   },
   {
    "duration": 2597,
    "start_time": "2025-05-02T01:17:34.474Z"
   },
   {
    "duration": 26,
    "start_time": "2025-05-02T01:17:37.074Z"
   },
   {
    "duration": 11,
    "start_time": "2025-05-02T01:17:37.101Z"
   },
   {
    "duration": 21117,
    "start_time": "2025-05-02T01:17:41.063Z"
   },
   {
    "duration": 66,
    "start_time": "2025-05-02T01:18:02.182Z"
   },
   {
    "duration": 93,
    "start_time": "2025-05-02T01:18:02.250Z"
   },
   {
    "duration": 11,
    "start_time": "2025-05-02T01:18:02.350Z"
   },
   {
    "duration": 6,
    "start_time": "2025-05-02T01:18:02.363Z"
   },
   {
    "duration": 10,
    "start_time": "2025-05-02T01:18:02.370Z"
   },
   {
    "duration": 163,
    "start_time": "2025-05-02T03:45:53.216Z"
   },
   {
    "duration": 2631,
    "start_time": "2025-05-02T03:46:03.919Z"
   },
   {
    "duration": 21,
    "start_time": "2025-05-02T03:46:06.552Z"
   },
   {
    "duration": 10,
    "start_time": "2025-05-02T03:46:06.575Z"
   },
   {
    "duration": 14,
    "start_time": "2025-05-02T03:46:06.587Z"
   },
   {
    "duration": 28,
    "start_time": "2025-05-02T03:46:06.604Z"
   },
   {
    "duration": 8,
    "start_time": "2025-05-02T03:46:06.634Z"
   },
   {
    "duration": 3,
    "start_time": "2025-05-02T03:46:06.644Z"
   },
   {
    "duration": 9,
    "start_time": "2025-05-02T03:46:06.648Z"
   },
   {
    "duration": 8,
    "start_time": "2025-05-02T03:46:06.658Z"
   },
   {
    "duration": 5,
    "start_time": "2025-05-02T03:46:06.667Z"
   },
   {
    "duration": 2565,
    "start_time": "2025-05-02T03:46:06.674Z"
   },
   {
    "duration": 82,
    "start_time": "2025-05-02T03:46:09.241Z"
   },
   {
    "duration": 735,
    "start_time": "2025-05-02T03:46:09.325Z"
   },
   {
    "duration": 91,
    "start_time": "2025-05-02T03:46:10.064Z"
   },
   {
    "duration": 151,
    "start_time": "2025-05-02T03:46:10.157Z"
   },
   {
    "duration": 99,
    "start_time": "2025-05-02T03:46:10.309Z"
   },
   {
    "duration": 29,
    "start_time": "2025-05-02T03:46:10.409Z"
   },
   {
    "duration": 55,
    "start_time": "2025-05-02T03:46:10.440Z"
   },
   {
    "duration": 20690,
    "start_time": "2025-05-02T03:46:10.497Z"
   },
   {
    "duration": 41,
    "start_time": "2025-05-02T03:46:31.189Z"
   },
   {
    "duration": 40,
    "start_time": "2025-05-02T03:46:31.231Z"
   },
   {
    "duration": 8,
    "start_time": "2025-05-02T03:47:50.467Z"
   },
   {
    "duration": 31216,
    "start_time": "2025-05-02T03:47:58.337Z"
   },
   {
    "duration": 77,
    "start_time": "2025-05-02T03:48:29.555Z"
   },
   {
    "duration": 245,
    "start_time": "2025-05-02T03:49:21.313Z"
   },
   {
    "duration": 248,
    "start_time": "2025-05-02T03:49:39.011Z"
   },
   {
    "duration": 20852,
    "start_time": "2025-05-02T03:51:47.323Z"
   },
   {
    "duration": 107,
    "start_time": "2025-05-02T03:52:08.177Z"
   },
   {
    "duration": 98,
    "start_time": "2025-05-02T03:52:14.871Z"
   },
   {
    "duration": 923,
    "start_time": "2025-05-02T03:53:40.462Z"
   },
   {
    "duration": 16,
    "start_time": "2025-05-02T03:53:41.387Z"
   },
   {
    "duration": 17,
    "start_time": "2025-05-02T03:53:41.404Z"
   },
   {
    "duration": 15,
    "start_time": "2025-05-02T03:53:41.423Z"
   },
   {
    "duration": 35,
    "start_time": "2025-05-02T03:53:41.492Z"
   },
   {
    "duration": 10,
    "start_time": "2025-05-02T03:53:41.529Z"
   },
   {
    "duration": 3,
    "start_time": "2025-05-02T03:53:41.540Z"
   },
   {
    "duration": 8,
    "start_time": "2025-05-02T03:53:41.545Z"
   },
   {
    "duration": 7,
    "start_time": "2025-05-02T03:53:41.554Z"
   },
   {
    "duration": 6,
    "start_time": "2025-05-02T03:53:41.563Z"
   },
   {
    "duration": 2552,
    "start_time": "2025-05-02T03:53:41.570Z"
   },
   {
    "duration": 8,
    "start_time": "2025-05-02T03:53:44.124Z"
   },
   {
    "duration": 756,
    "start_time": "2025-05-02T03:53:44.133Z"
   },
   {
    "duration": 89,
    "start_time": "2025-05-02T03:53:44.892Z"
   },
   {
    "duration": 152,
    "start_time": "2025-05-02T03:53:44.983Z"
   },
   {
    "duration": 99,
    "start_time": "2025-05-02T03:53:45.137Z"
   },
   {
    "duration": 22,
    "start_time": "2025-05-02T03:53:45.237Z"
   },
   {
    "duration": 8,
    "start_time": "2025-05-02T03:53:45.260Z"
   },
   {
    "duration": 20933,
    "start_time": "2025-05-02T03:53:45.269Z"
   },
   {
    "duration": 107,
    "start_time": "2025-05-02T03:54:06.204Z"
   },
   {
    "duration": 101,
    "start_time": "2025-05-02T03:54:06.313Z"
   },
   {
    "duration": 20589,
    "start_time": "2025-05-02T03:59:24.920Z"
   },
   {
    "duration": 109,
    "start_time": "2025-05-02T03:59:45.510Z"
   },
   {
    "duration": 34,
    "start_time": "2025-05-02T04:00:10.086Z"
   },
   {
    "duration": 31,
    "start_time": "2025-05-02T04:00:29.171Z"
   }
  ],
  "kernelspec": {
   "display_name": "Python 3 (ipykernel)",
   "language": "python",
   "name": "python3"
  },
  "language_info": {
   "codemirror_mode": {
    "name": "ipython",
    "version": 3
   },
   "file_extension": ".py",
   "mimetype": "text/x-python",
   "name": "python",
   "nbconvert_exporter": "python",
   "pygments_lexer": "ipython3",
   "version": "3.9.19"
  },
  "toc": {
   "base_numbering": 1,
   "nav_menu": {},
   "number_sections": true,
   "sideBar": true,
   "skip_h1_title": true,
   "title_cell": "Table of Contents",
   "title_sidebar": "Contents",
   "toc_cell": false,
   "toc_position": {},
   "toc_section_display": true,
   "toc_window_display": false
  }
 },
 "nbformat": 4,
 "nbformat_minor": 2
}
